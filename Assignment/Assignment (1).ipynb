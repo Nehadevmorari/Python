{
  "nbformat": 4,
  "nbformat_minor": 0,
  "metadata": {
    "colab": {
      "provenance": []
    },
    "kernelspec": {
      "name": "python3",
      "display_name": "Python 3"
    },
    "language_info": {
      "name": "python"
    }
  },
  "cells": [
    {
      "cell_type": "markdown",
      "source": [
        "# **Introduction To Python**"
      ],
      "metadata": {
        "id": "adZaqO_E_LPz"
      }
    },
    {
      "cell_type": "markdown",
      "source": [
        "**1) What are the types of Applications?**\n",
        "\n",
        "\n",
        "---\n",
        "\n",
        "\n",
        "i)Web Development: Python is popular for web development due to frameworks like\n",
        " Django, Flask, and Pyramid. These frameworks simplify the process of building\n",
        " robust and scalable web applications.\n",
        "\n",
        "ii)Data Science: Python is a go-to language for data science, including data\n",
        " analysis, machine learning, and data visualization. Libraries like Pandas, NumPy, SciPy, and TensorFlow make it easier to handle data and build complex models.  \n",
        "\n",
        "iii)Machine Learning and Artificial Intelligence: Python’s simplicity and\n",
        " readability make it ideal for developing machine learning and AI algorithms. Libraries such as Keras, Scikit-learn, and PyTorch are widely used in this field.\n",
        "\n",
        "iv)Desktop GUI Applications: Python can be used to create desktop applications\n",
        " with graphical user interfaces (GUIs). Libraries like Tkinter, PyQt, and Kivy are popular choices for this purpose.\n",
        "\n",
        "v)Web Scraping: Python is often used for web scraping to extract data from\n",
        " websites. Libraries like Beautiful Soup and Scrapy are commonly used for this.\n",
        "\n",
        "vi)Automation and Scripting: Python is excellent for writing scripts to automate\n",
        " repetitive tasks. This can range from simple file operations to complex system administration tasks.\n",
        "\n",
        "\n",
        "vii)Software Development: Python is used in various aspects of software          development, including build control, management, and testing.\n",
        "\n",
        "\n",
        "\n",
        "\n",
        "\n",
        "\n",
        "\n"
      ],
      "metadata": {
        "id": "KaRWpQ1M2Pmi"
      }
    },
    {
      "cell_type": "markdown",
      "source": [
        "**2) What is programing?**\n",
        "\n",
        "\n",
        "---\n",
        "\n",
        "Programming is the process of creating a set of instructions that a computer\n",
        "can follow to perform specific tasks. These instructions are written in a programming language, which is a formal language designed to communicate with computers."
      ],
      "metadata": {
        "id": "rvZmR_EX5YcE"
      }
    },
    {
      "cell_type": "markdown",
      "source": [
        "**3) What is Python?**\n",
        "\n",
        "---\n",
        "Python is a high-level,general purpose ,interpreted programming language known for its simplicity and readability.\n",
        "\n",
        "\n",
        "i)Easy to Learn and Use: Python syntax is clear and straightforward, making it  \n",
        "    an excellent choice for beginners.\n",
        "\n",
        "ii)Interpreted Language: Python code is executed line by line, which makes\n",
        " debugging easier and allows for interactive testing.\n",
        "\n",
        "\n",
        "iii)Versatile: Python is used in web development, data science, machine learning,\n",
        " artificial intelligence, automation, game development, and more.\n",
        "\n",
        "iv)Extensive Libraries and Frameworks: Python has a rich ecosystem of libraries\n",
        " and frameworks, such as Pandas, NumPy, TensorFlow, Django, and Flask, which simplify complex tasks.\n",
        "\n",
        "v)Cross-Platform: Python runs on various operating systems, including Windows,\n",
        " macOS, and Linux.\n",
        "\n",
        "vi)Open Source: Python is free to use and distribute, making it accessible to\n",
        " everyone.\n",
        "\n",
        "\n",
        "\n",
        "\n",
        "\n",
        "\n",
        "\n",
        "\n",
        "\n"
      ],
      "metadata": {
        "id": "yuox-fyB6rzv"
      }
    },
    {
      "cell_type": "markdown",
      "source": [
        "**4) Write a Python program to check if a number is positive, negative or\n",
        "zero.**\n",
        "\n",
        "---\n",
        "\n"
      ],
      "metadata": {
        "id": "X7O2i1V09TQM"
      }
    },
    {
      "cell_type": "code",
      "source": [
        "num = int(input(\"Enter A Number:\"))\n",
        "if num>0:\n",
        "  print(num,\"is Positive\")\n",
        "elif num<0:\n",
        "  print(num,\"is Negative\")\n",
        "else:\n",
        "  print(num,\"is Zero\")"
      ],
      "metadata": {
        "colab": {
          "base_uri": "https://localhost:8080/"
        },
        "id": "RFVltsZA-KNe",
        "outputId": "e1c4d85e-a3b8-4997-98d9-b6f3500396be"
      },
      "execution_count": null,
      "outputs": [
        {
          "output_type": "stream",
          "name": "stdout",
          "text": [
            "Enter A Number:8\n",
            "8 is Positive\n"
          ]
        }
      ]
    },
    {
      "cell_type": "markdown",
      "source": [
        "**5)Write a Python program to get the Factorial number of given numbers.**\n",
        "\n",
        "---\n",
        "\n"
      ],
      "metadata": {
        "id": "zLvAe2t5_Taq"
      }
    },
    {
      "cell_type": "code",
      "source": [
        "num = int(input(\"Enter a Number:\"))\n",
        "fact = 1\n",
        "if num<0:\n",
        "  print(\"Not Exist\")\n",
        "if num==0:\n",
        "  print(1)\n",
        "if num>0:\n",
        "  for i in range(1,num+1):\n",
        "    fact*=i\n",
        "  print(fact)\n"
      ],
      "metadata": {
        "colab": {
          "base_uri": "https://localhost:8080/"
        },
        "id": "ZOH8sAR1Suik",
        "outputId": "267f8c8b-e993-42d8-9685-b07763e93616"
      },
      "execution_count": null,
      "outputs": [
        {
          "output_type": "stream",
          "name": "stdout",
          "text": [
            "Enter a Number:5\n",
            "120\n"
          ]
        }
      ]
    },
    {
      "cell_type": "code",
      "source": [
        "def factorial(n):\n",
        "  fact=1\n",
        "  for i in range(1,n+1):\n",
        "    fact=fact*i\n",
        "  print(fact)\n",
        "factorial(5)"
      ],
      "metadata": {
        "colab": {
          "base_uri": "https://localhost:8080/"
        },
        "id": "FtjL2tlGCA7l",
        "outputId": "42973e46-4409-4daa-8a25-5f59b0579e81"
      },
      "execution_count": null,
      "outputs": [
        {
          "output_type": "stream",
          "name": "stdout",
          "text": [
            "120\n"
          ]
        }
      ]
    },
    {
      "cell_type": "markdown",
      "source": [
        "**6)Write a Python program to get the Fibonacci series of given range.**\n",
        "\n",
        "---\n",
        "\n"
      ],
      "metadata": {
        "id": "n2W3Cr_fDtXD"
      }
    },
    {
      "cell_type": "code",
      "source": [
        "a = 0\n",
        "b = 1\n",
        "num = int(input(\"Enter a Number:\"))\n",
        "if num==1:\n",
        "  print(a)\n",
        "else:\n",
        "  print(a)\n",
        "  print(b)\n",
        "  for i in range(2,num):\n",
        "    c = a+b\n",
        "    a = b\n",
        "    b = c\n",
        "    print(c)"
      ],
      "metadata": {
        "colab": {
          "base_uri": "https://localhost:8080/"
        },
        "id": "cD4Q3NjcDwyv",
        "outputId": "98f7a193-21da-4c52-c4f4-e06c3d51f4cc"
      },
      "execution_count": null,
      "outputs": [
        {
          "output_type": "stream",
          "name": "stdout",
          "text": [
            "Enter a Number:7\n",
            "0\n",
            "1\n",
            "1\n",
            "2\n",
            "3\n",
            "5\n",
            "8\n"
          ]
        }
      ]
    },
    {
      "cell_type": "markdown",
      "source": [
        "**7)How memory is managed in Python?**\n",
        "\n",
        "---\n",
        "Memory management in Python is handled automatically by the Python interpreter, which uses a combination of techniques to efficiently allocate and deallocate memory. Here are the key components of Python’s memory management:\n",
        "\n",
        "\n",
        "i)Private Heap Space: All Python objects and data structures are stored in a\n",
        " private heap. This heap is managed by the Python memory manager, which ensures that the memory is allocated and deallocated as needed.\n",
        "\n",
        "ii)Garbage Collection: Python uses a garbage collector to automatically free up\n",
        " memory that is no longer in use. The garbage collector identifies objects that are no longer referenced by any part of the program and deallocates their memory.\n",
        "\n",
        "iii)Dynamic Memory Allocation: Memory is allocated dynamically as needed. This\n",
        " means that the interpreter allocates memory for objects when they are created and deallocates it when they are no longer needed.\n",
        "\n",
        "iv)Stack and Heap Memory: Python uses both stack and heap memory. Stack memory is\n",
        " used for function calls and local variables, while heap memory is used for dynamic memory allocation.\n",
        "\n",
        "\n",
        "\n",
        "\n"
      ],
      "metadata": {
        "id": "VoO2dCc5XsB6"
      }
    },
    {
      "cell_type": "markdown",
      "source": [
        "**8)What is the purpose continuing statement in python?**\n",
        "\n",
        "---\n",
        "\n",
        "The continue statement in Python is used within loops to skip the rest of the code inside the loop for the current iteration and move to the next iteration. This is particularly useful when you want to bypass certain conditions or values while iterating over a sequence."
      ],
      "metadata": {
        "id": "S4lSiKCcZWFz"
      }
    },
    {
      "cell_type": "markdown",
      "source": [
        "**9) Write python program that swap two number with temp variable\n",
        "and without temp variable.**\n",
        "\n",
        "---\n",
        "i) Using temp variable\n"
      ],
      "metadata": {
        "id": "nztYmKIgaGGn"
      }
    },
    {
      "cell_type": "code",
      "source": [
        "num1 = int(input(\"Enter a Number:\"))\n",
        "num2 = int(input(\"Enter a Number:\"))\n",
        "temp = num1\n",
        "num1 = num2\n",
        "num2 = temp\n",
        "print(\"Print swap of num1 is\",num1)\n",
        "print(\"Print swap of num2 is\",num2)"
      ],
      "metadata": {
        "colab": {
          "base_uri": "https://localhost:8080/"
        },
        "id": "O8yaJH4XawaO",
        "outputId": "3d556faf-b32b-4ce5-e970-66b834d410d0"
      },
      "execution_count": null,
      "outputs": [
        {
          "output_type": "stream",
          "name": "stdout",
          "text": [
            "Enter a Number:10\n",
            "Enter a Number:20\n",
            "Print swap of num1 is 20\n",
            "Print swap of num2 is 10\n"
          ]
        }
      ]
    },
    {
      "cell_type": "markdown",
      "source": [
        "ii) Without temp variable"
      ],
      "metadata": {
        "id": "FKskiultMcTj"
      }
    },
    {
      "cell_type": "code",
      "source": [
        "num1 = int(input(\"Enter a Number:\"))\n",
        "num2 = int(input(\"Enter a Number:\"))\n",
        "num1 = num1 + num2\n",
        "num2 = num1 - num2\n",
        "num1 = num1 - num2\n",
        "print(\"Print swap of num1 is\",num1)\n",
        "print(\"Print swap of num2 is\",num2)"
      ],
      "metadata": {
        "colab": {
          "base_uri": "https://localhost:8080/"
        },
        "id": "aezYEbItMnEC",
        "outputId": "610ab423-a147-43a1-fa22-8c802a3ec2b9"
      },
      "execution_count": null,
      "outputs": [
        {
          "output_type": "stream",
          "name": "stdout",
          "text": [
            "Enter a Number:10\n",
            "Enter a Number:20\n",
            "Print swap of num1 is 20\n",
            "Print swap of num2 is 10\n"
          ]
        }
      ]
    },
    {
      "cell_type": "markdown",
      "source": [
        "**10) Write a Python program to find whether a given number is even\n",
        "or odd, print out an appropriate message to the user.**\n",
        "\n",
        "---\n",
        "\n"
      ],
      "metadata": {
        "id": "E9FMLWCIPJsj"
      }
    },
    {
      "cell_type": "code",
      "source": [
        "num = int(input(\"Enter a Number:\"))\n",
        "if num%2==0:\n",
        "  print(num,\"is Even\")\n",
        "else:\n",
        "  print(num,\"is Odd\")"
      ],
      "metadata": {
        "colab": {
          "base_uri": "https://localhost:8080/"
        },
        "id": "i3uL49T9PMgM",
        "outputId": "c1b5b2f3-bde3-46e3-9eb0-be817c1af3ff"
      },
      "execution_count": null,
      "outputs": [
        {
          "output_type": "stream",
          "name": "stdout",
          "text": [
            "Enter a Number:10\n",
            "10 is Even\n"
          ]
        }
      ]
    },
    {
      "cell_type": "markdown",
      "source": [
        "**11) Write a Python program to test whether a passed letter is a vowel\n",
        "or not.**\n",
        "\n",
        "---\n",
        "\n"
      ],
      "metadata": {
        "id": "4Q5NgTBbP5WS"
      }
    },
    {
      "cell_type": "code",
      "source": [
        "my_str = input(\"Enter Name :\")\n",
        "if 'a' in my_str or 'e' in my_str or 'i' in my_str  or 'o' in my_str or 'u' in my_str:\n",
        "  print( \"Vowel\")\n",
        "else:\n",
        "  print(\"Consonant\")"
      ],
      "metadata": {
        "colab": {
          "base_uri": "https://localhost:8080/"
        },
        "id": "8l_MqsEMP8xb",
        "outputId": "e2c7a39c-6ff3-4af6-b9f5-4629454bde2c"
      },
      "execution_count": null,
      "outputs": [
        {
          "output_type": "stream",
          "name": "stdout",
          "text": [
            "Enter Name :e\n",
            "Vowel\n"
          ]
        }
      ]
    },
    {
      "cell_type": "markdown",
      "source": [
        "**12) Write a Python program to sum of three given integers. However, if\n",
        "two values are equal sum will be zero.**\n",
        "\n",
        "---\n",
        "\n"
      ],
      "metadata": {
        "id": "vfG87cbqQv6M"
      }
    },
    {
      "cell_type": "code",
      "source": [
        "a = int(input(\"Enter a Number a:\"))\n",
        "b = int(input(\"Enter a Number b:\"))\n",
        "c = int(input(\"Enter a Number c:\"))\n",
        "if a==b or b==c or c==a:\n",
        "  print(0)\n",
        "else:\n",
        "  print(a+b+c)"
      ],
      "metadata": {
        "colab": {
          "base_uri": "https://localhost:8080/"
        },
        "id": "0c-1BKVxQzpc",
        "outputId": "6f2feb9c-cb92-47d6-c9d2-a012b7fc2fb8"
      },
      "execution_count": null,
      "outputs": [
        {
          "output_type": "stream",
          "name": "stdout",
          "text": [
            "Enter a Number a:10\n",
            "Enter a Number b:20\n",
            "Enter a Number c:10\n",
            "0\n"
          ]
        }
      ]
    },
    {
      "cell_type": "markdown",
      "source": [
        "**13) Write a Python program that will return true if the two given\n",
        "integer values are equal or their sum or difference is 5.**\n",
        "\n",
        "---\n",
        "\n"
      ],
      "metadata": {
        "id": "_F_53go4SVwr"
      }
    },
    {
      "cell_type": "code",
      "source": [
        "a = int(input(\"Enter a Number a:\"))\n",
        "b = int(input(\"Enter a Number b:\"))\n",
        "if a==b or (a+b)==5 or (a-b)==5:\n",
        "  print(True)\n",
        "else:\n",
        "  print(False)"
      ],
      "metadata": {
        "colab": {
          "base_uri": "https://localhost:8080/"
        },
        "id": "HlR4tPsKSY-m",
        "outputId": "28acda2f-579c-4ccc-8059-c715a976b78a"
      },
      "execution_count": null,
      "outputs": [
        {
          "output_type": "stream",
          "name": "stdout",
          "text": [
            "Enter a Number a:7\n",
            "Enter a Number b:6\n",
            "False\n"
          ]
        }
      ]
    },
    {
      "cell_type": "markdown",
      "source": [
        "**14)Write a python program to sum of the first n positive integers.**\n",
        "\n",
        "---\n",
        "\n"
      ],
      "metadata": {
        "id": "5gHd0srnXvuM"
      }
    },
    {
      "cell_type": "code",
      "source": [
        "num = int(input(\"Enter a Number:\"))\n",
        "sum = 0\n",
        "for i in range(1,num+1):\n",
        "  sum=sum+i\n",
        "print(sum)"
      ],
      "metadata": {
        "colab": {
          "base_uri": "https://localhost:8080/"
        },
        "id": "MaJDs59tXy8p",
        "outputId": "ad168295-3c78-436d-ca08-4df081dc0979"
      },
      "execution_count": null,
      "outputs": [
        {
          "output_type": "stream",
          "name": "stdout",
          "text": [
            "Enter a Number:4\n",
            "10\n"
          ]
        }
      ]
    },
    {
      "cell_type": "markdown",
      "source": [
        "**15)Write a Python program to calculate the length of a string.**\n",
        "\n",
        "---\n",
        "\n"
      ],
      "metadata": {
        "id": "h2PiUPgjY8OD"
      }
    },
    {
      "cell_type": "code",
      "source": [
        "my_str = input(\"Enter a String:\")\n",
        "print(len(my_str))"
      ],
      "metadata": {
        "colab": {
          "base_uri": "https://localhost:8080/"
        },
        "id": "k4K0u4P_Y_wA",
        "outputId": "d9b86d88-e6bb-475f-ece6-a26eebde22f1"
      },
      "execution_count": null,
      "outputs": [
        {
          "output_type": "stream",
          "name": "stdout",
          "text": [
            "Enter a String:Neha\n",
            "4\n"
          ]
        }
      ]
    },
    {
      "cell_type": "markdown",
      "source": [
        "**16) Write a Python program to count the number of characters\n",
        "(character frequency) in a string.**\n",
        "\n",
        "---\n",
        "\n"
      ],
      "metadata": {
        "id": "IrIgF6eFZgWv"
      }
    },
    {
      "cell_type": "code",
      "source": [
        "def count_frequency_string(mystr):\n",
        "  frequency_dict={}\n",
        "  for i in mystr:\n",
        "    if i in frequency_dict:\n",
        "      frequency_dict[i]+=1\n",
        "    else:\n",
        "      frequency_dict[i]=1\n",
        "  print(frequency_dict)\n",
        "\n",
        "count_frequency_string(\"Hello Python\")"
      ],
      "metadata": {
        "colab": {
          "base_uri": "https://localhost:8080/"
        },
        "id": "DpTz_T_VZjgh",
        "outputId": "ea3b0f87-126b-431d-d38e-73e877b7e14e"
      },
      "execution_count": null,
      "outputs": [
        {
          "output_type": "stream",
          "name": "stdout",
          "text": [
            "{'H': 1, 'e': 1, 'l': 2, 'o': 2, ' ': 1, 'P': 1, 'y': 1, 't': 1, 'h': 1, 'n': 1}\n"
          ]
        }
      ]
    },
    {
      "cell_type": "markdown",
      "source": [
        "**17)What are negative indexes and why are they used?**\n",
        "\n",
        "---\n",
        "\n",
        "Negative indexes in Python are used to access elements from the end of a sequence, such as a list or a string. Instead of starting from the beginning (index 0), negative indexing starts from the end, with the last element being indexed as -1, the second last as -2, and so on.\n",
        "\n",
        "**why negative indexes are useful:**\n",
        "\n",
        "i)Convenience: They provide a convenient way to access elements from the end of  a sequence without needing to calculate the length of the sequence.\n",
        "\n",
        "ii)Readability: They make the code more readable and concise, especially when you\n",
        " need to access elements near the end of a sequence.\n",
        "\n",
        "\n",
        "iii)Flexibility: They allow for more flexible slicing and indexing operations.\n",
        "\n",
        "\n",
        "\n"
      ],
      "metadata": {
        "id": "S-2TVSp-bs-n"
      }
    },
    {
      "cell_type": "markdown",
      "source": [
        "**18)Write a Python program to count occurrences of a substring in a string.**\n",
        "\n",
        "---\n",
        "\n"
      ],
      "metadata": {
        "id": "UOHjFxKcjI-N"
      }
    },
    {
      "cell_type": "code",
      "source": [
        "def count_occurrences(main_string,sub_string):\n",
        "  count=main_string.count(sub_string)\n",
        "  print(count)\n",
        "count_occurrences(\"Hello world , welcom to world python programming\",\"world\")"
      ],
      "metadata": {
        "colab": {
          "base_uri": "https://localhost:8080/"
        },
        "id": "STZouNI_jtMa",
        "outputId": "4fb568e7-c7ff-4451-bfd6-38f712022fce"
      },
      "execution_count": null,
      "outputs": [
        {
          "output_type": "stream",
          "name": "stdout",
          "text": [
            "2\n"
          ]
        }
      ]
    },
    {
      "cell_type": "markdown",
      "source": [
        "**19) Write a Python program to count the occurrences of each word in a given sentence.**\n",
        "\n",
        "---\n",
        "\n"
      ],
      "metadata": {
        "id": "UeZlQIeQlzzl"
      }
    },
    {
      "cell_type": "code",
      "source": [
        "def count_word_occurrences(my_str):\n",
        "  words = my_str.split()\n",
        "  word_counts = {}\n",
        "  for word in words:\n",
        "    if word in word_counts:\n",
        "      word_counts[word]+=1\n",
        "    else:\n",
        "      word_counts[word]=1\n",
        "  print(word_counts)\n",
        "count_word_occurrences(\"Hello world , welcom to world python programming\")"
      ],
      "metadata": {
        "colab": {
          "base_uri": "https://localhost:8080/"
        },
        "id": "SoKpjudGmGPT",
        "outputId": "1d0e6adb-2d55-42d8-fb1f-dfcef2d567a8"
      },
      "execution_count": null,
      "outputs": [
        {
          "output_type": "stream",
          "name": "stdout",
          "text": [
            "{'Hello': 1, 'world': 2, ',': 1, 'welcom': 1, 'to': 1, 'python': 1, 'programming': 1}\n"
          ]
        }
      ]
    },
    {
      "cell_type": "markdown",
      "source": [
        "**20) Write a Python program to get a single string from two given strings,\n",
        "separated by a space and swap the first two characters of each string.**\n",
        "\n",
        "---\n",
        "\n"
      ],
      "metadata": {
        "id": "uOeARqYeF5x2"
      }
    },
    {
      "cell_type": "code",
      "source": [
        "def swap_two_string(str1,str2):\n",
        "  new_str1 = str2[:2]+str1[2:]  #wollo\n",
        "  new_str2 = str1[:2]+str2[2:]  #Herld\n",
        "  result = new_str1+\" \"+new_str2\n",
        "  print(result)\n",
        "swap_two_string(\"Hello\",\"World\")"
      ],
      "metadata": {
        "colab": {
          "base_uri": "https://localhost:8080/"
        },
        "id": "GfgknInfF8CG",
        "outputId": "34cdc4a5-7ebb-4222-d80a-647a25dd96b5"
      },
      "execution_count": null,
      "outputs": [
        {
          "output_type": "stream",
          "name": "stdout",
          "text": [
            "Wollo Herld\n"
          ]
        }
      ]
    },
    {
      "cell_type": "markdown",
      "source": [
        "**21) Write a Python program to add 'in' at the end of a given string (length\n",
        "should be at least 3). If the given string already ends with 'ing' then\n",
        "add 'ly' instead if the string length of the given string is less than 3,\n",
        "leave it unchanged.**\n",
        "\n",
        "---\n",
        "\n",
        "\n",
        "\n",
        "\n",
        "\n"
      ],
      "metadata": {
        "id": "LpwS1XY1J_C7"
      }
    },
    {
      "cell_type": "code",
      "source": [
        "a = input(\"Enter a string\")\n",
        "if len(a)<3:\n",
        "  print(a)\n",
        "elif a.endswith('ing'):\n",
        "   print(a+'ly')\n",
        "else:\n",
        "  print(a+'ing')"
      ],
      "metadata": {
        "id": "aDBLGj7o1xDG",
        "colab": {
          "base_uri": "https://localhost:8080/"
        },
        "outputId": "83f72b1e-6374-47e9-8d0c-42bcb6c12de5"
      },
      "execution_count": null,
      "outputs": [
        {
          "output_type": "stream",
          "name": "stdout",
          "text": [
            "Enter a stringborring\n",
            "borringly\n"
          ]
        }
      ]
    },
    {
      "cell_type": "markdown",
      "source": [
        "**22) Write a Python function to reverses a string if its length is a multiple\n",
        "of 4.**\n",
        "\n",
        "---\n",
        "\n"
      ],
      "metadata": {
        "id": "mRHO3cyHKzrA"
      }
    },
    {
      "cell_type": "code",
      "source": [
        "def reverse_if_multiple_four(s):\n",
        "  if len(s)%4==0:\n",
        "    return s[::-1]\n",
        "  else:\n",
        "    return s\n",
        "reverse_if_multiple_four(\"Neha\")"
      ],
      "metadata": {
        "colab": {
          "base_uri": "https://localhost:8080/",
          "height": 35
        },
        "id": "1W6GCjLrK2ML",
        "outputId": "f2682eee-dbfc-4198-9cd4-ee23e2603f67"
      },
      "execution_count": null,
      "outputs": [
        {
          "output_type": "execute_result",
          "data": {
            "text/plain": [
              "'aheN'"
            ],
            "application/vnd.google.colaboratory.intrinsic+json": {
              "type": "string"
            }
          },
          "metadata": {},
          "execution_count": 9
        }
      ]
    },
    {
      "cell_type": "markdown",
      "source": [
        "**23) Write a Python program to get a string made of the first 2 and the last\n",
        "2 chars from a given a string. If the string length is less than 2, return\n",
        "instead of the empty string.**\n",
        "\n",
        "---\n",
        "\n"
      ],
      "metadata": {
        "id": "3A4MTr9mMdgY"
      }
    },
    {
      "cell_type": "code",
      "source": [
        "def len_string(s):\n",
        "  if len(s)<2:\n",
        "    return \" \"\n",
        "  else:\n",
        "    return s[:2]+s[-2:]\n",
        "len_string(\"Hello\")"
      ],
      "metadata": {
        "colab": {
          "base_uri": "https://localhost:8080/",
          "height": 35
        },
        "id": "u2RDc9vvMgWZ",
        "outputId": "b0894a40-5cd4-48d8-ec57-da437a56178a"
      },
      "execution_count": null,
      "outputs": [
        {
          "output_type": "execute_result",
          "data": {
            "text/plain": [
              "'Helo'"
            ],
            "application/vnd.google.colaboratory.intrinsic+json": {
              "type": "string"
            }
          },
          "metadata": {},
          "execution_count": 10
        }
      ]
    },
    {
      "cell_type": "markdown",
      "source": [
        "**24)Write a Python function to insert a string in the middle of a string.**\n",
        "\n",
        "---\n",
        "\n"
      ],
      "metadata": {
        "id": "UVZv4z_yNmbI"
      }
    },
    {
      "cell_type": "code",
      "source": [
        "def insert_in_middle(original,new_insert):\n",
        "  middle_index = len(original)//2\n",
        "  result = original[:middle_index]+\" \"+new_insert+original[middle_index:]\n",
        "  print(result)\n",
        "insert_in_middle(\"Hello World\",\"Python\")"
      ],
      "metadata": {
        "colab": {
          "base_uri": "https://localhost:8080/"
        },
        "id": "TebYXhc_Np2K",
        "outputId": "f40c0aa0-fb74-4ef9-f8f2-ed173c9a6afb"
      },
      "execution_count": null,
      "outputs": [
        {
          "output_type": "stream",
          "name": "stdout",
          "text": [
            "Hello Python World\n"
          ]
        }
      ]
    },
    {
      "cell_type": "markdown",
      "source": [
        "**25)What is List? How will you reverse a list?**\n",
        "\n",
        "---\n",
        "\n",
        "A list in Python is a collection of items that are ordered, changeable, and allow duplicate values. Lists are created using square brackets, and items within a list are separated by commas. For example:my_list = [\"apple\", \"banana\", \"cherry\"]\n",
        "\n",
        "To reverse a list in Python, you can use several methods.\n",
        "\n",
        "i)**reverse():**This method reverses the list in place, meaning it modifies the original list.\n",
        "\n"
      ],
      "metadata": {
        "id": "u7P2slkAPXKK"
      }
    },
    {
      "cell_type": "code",
      "source": [
        "my_list = [1, 2, 3, 4, 5]\n",
        "my_list.reverse()\n",
        "print(my_list)"
      ],
      "metadata": {
        "colab": {
          "base_uri": "https://localhost:8080/"
        },
        "id": "0RY5ju2aQoLj",
        "outputId": "f8cecc4f-c2d8-4375-afec-39e6ab2e99a5"
      },
      "execution_count": null,
      "outputs": [
        {
          "output_type": "stream",
          "name": "stdout",
          "text": [
            "[5, 4, 3, 2, 1]\n"
          ]
        }
      ]
    },
    {
      "cell_type": "markdown",
      "source": [
        "**ii)slicing:**This method creates a new list that is the reverse of the original list."
      ],
      "metadata": {
        "id": "BWqLmzdLQupA"
      }
    },
    {
      "cell_type": "code",
      "source": [
        "my_list = [1, 2, 3, 4, 5]\n",
        "reversed_list = my_list[::-1]\n",
        "print(reversed_list)"
      ],
      "metadata": {
        "colab": {
          "base_uri": "https://localhost:8080/"
        },
        "id": "yc01dkjHRGFg",
        "outputId": "f21cf151-c6b7-4667-e55d-11ce74088c59"
      },
      "execution_count": null,
      "outputs": [
        {
          "output_type": "stream",
          "name": "stdout",
          "text": [
            "[5, 4, 3, 2, 1]\n"
          ]
        }
      ]
    },
    {
      "cell_type": "markdown",
      "source": [
        "**iii)reversed():**This function returns an iterator that accesses the given sequence in reverse order. You can convert it to a list using the list() function."
      ],
      "metadata": {
        "id": "cg8HjhH1RPJF"
      }
    },
    {
      "cell_type": "code",
      "source": [
        "my_list = [1, 2, 3, 4, 5]\n",
        "reversed_list = list(reversed(my_list))\n",
        "print(reversed_list)"
      ],
      "metadata": {
        "colab": {
          "base_uri": "https://localhost:8080/"
        },
        "id": "rODGEVTbRlr0",
        "outputId": "a77cc231-10e0-4b92-d3af-acf6d6767364"
      },
      "execution_count": null,
      "outputs": [
        {
          "output_type": "stream",
          "name": "stdout",
          "text": [
            "[5, 4, 3, 2, 1]\n"
          ]
        }
      ]
    },
    {
      "cell_type": "markdown",
      "source": [
        "**26)How will you remove last object from a list?**\n",
        "\n",
        "---\n",
        "\n",
        "You can remove the last object from a list in Python using the pop() method without any arguments, or by using the del statement.\n",
        "\n",
        "**i)pop():**"
      ],
      "metadata": {
        "id": "fGCKuxKnbgWu"
      }
    },
    {
      "cell_type": "code",
      "source": [
        "my_list = [1, 2, 3, 4, 5]\n",
        "my_list.pop()\n",
        "print(my_list)"
      ],
      "metadata": {
        "colab": {
          "base_uri": "https://localhost:8080/"
        },
        "id": "S5Tb7-MDdJCK",
        "outputId": "2de32a8f-7135-41a3-f257-44323e33a3e5"
      },
      "execution_count": null,
      "outputs": [
        {
          "output_type": "stream",
          "name": "stdout",
          "text": [
            "[1, 2, 3, 4]\n"
          ]
        }
      ]
    },
    {
      "cell_type": "markdown",
      "source": [
        "**ii)del statement:**"
      ],
      "metadata": {
        "id": "f4U_FEQZdOcN"
      }
    },
    {
      "cell_type": "code",
      "source": [
        "my_list = [1, 2, 3, 4, 5]\n",
        "del my_list[-1]\n",
        "print(my_list)"
      ],
      "metadata": {
        "colab": {
          "base_uri": "https://localhost:8080/"
        },
        "id": "fJCJpb1udSbK",
        "outputId": "b4a6a249-b961-4446-f8f3-5cd5f54f51d7"
      },
      "execution_count": null,
      "outputs": [
        {
          "output_type": "stream",
          "name": "stdout",
          "text": [
            "[1, 2, 3, 4]\n"
          ]
        }
      ]
    },
    {
      "cell_type": "markdown",
      "source": [
        "**27)Suppose list1 is [2, 33, 222, 14, and 25], what is list1 [-\n",
        "1]?**\n",
        "\n",
        "---\n",
        "\n"
      ],
      "metadata": {
        "id": "dSqTfq1GdovM"
      }
    },
    {
      "cell_type": "code",
      "source": [
        "list1 = [2, 33, 222, 14, 25]\n",
        "print(list1[-1])"
      ],
      "metadata": {
        "colab": {
          "base_uri": "https://localhost:8080/"
        },
        "id": "vtJprTiFdsvK",
        "outputId": "63650f60-f9a9-4cac-fbc3-f16ea79cb4a3"
      },
      "execution_count": null,
      "outputs": [
        {
          "output_type": "stream",
          "name": "stdout",
          "text": [
            "25\n"
          ]
        }
      ]
    },
    {
      "cell_type": "markdown",
      "source": [
        "**28)Differentiate between append () and extend () methods?**\n",
        "\n",
        "---\n",
        "In Python, append() and extend() are both list methods used to add elements to a list, but they work differently:\n",
        "\n",
        "**i)append():**Adds a single element to the end of the list.\n"
      ],
      "metadata": {
        "id": "7Uhi6uebeDLE"
      }
    },
    {
      "cell_type": "code",
      "source": [
        "my_list = [1,2,3]\n",
        "my_list.append(4)\n",
        "print(my_list)\n",
        "my_list.append([4,5,6])\n",
        "print(my_list)"
      ],
      "metadata": {
        "colab": {
          "base_uri": "https://localhost:8080/"
        },
        "id": "1PFnk8_ce_rB",
        "outputId": "ae3fa42b-92a3-4ea0-bdae-b4d5908793e1"
      },
      "execution_count": null,
      "outputs": [
        {
          "output_type": "stream",
          "name": "stdout",
          "text": [
            "[1, 2, 3, 4]\n",
            "[1, 2, 3, 4, [4, 5, 6]]\n"
          ]
        }
      ]
    },
    {
      "cell_type": "markdown",
      "source": [
        "**ii)extend():**Adds multiple elements to the end of the list. The argument passed to extend() must be an iterable (like a list, tuple, set)."
      ],
      "metadata": {
        "id": "pKuiDiR1fiIU"
      }
    },
    {
      "cell_type": "code",
      "source": [
        "my_list = [1,2,3]\n",
        "my_list.extend([4,5,6])\n",
        "print(my_list)\n",
        "my_list.extend(\"abc\")\n",
        "print(my_list)"
      ],
      "metadata": {
        "colab": {
          "base_uri": "https://localhost:8080/"
        },
        "id": "7P5HpKf-ftby",
        "outputId": "22ea801a-ce55-4e6b-d78f-7df698a36245"
      },
      "execution_count": null,
      "outputs": [
        {
          "output_type": "stream",
          "name": "stdout",
          "text": [
            "[1, 2, 3, 4, 5, 6]\n",
            "[1, 2, 3, 4, 5, 6, 'a', 'b', 'c']\n"
          ]
        }
      ]
    },
    {
      "cell_type": "markdown",
      "source": [
        "**29) Write a Python function to get the largest number, smallest num\n",
        "and sum of all from a list.**\n",
        "\n",
        "---\n",
        "\n"
      ],
      "metadata": {
        "id": "a0dVGCvfgU_z"
      }
    },
    {
      "cell_type": "code",
      "source": [
        "a = [24,67,87,45,98,23,93]\n",
        "print(max(a))\n",
        "print(min(a))\n",
        "sum = 0\n",
        "for i in a:\n",
        "  sum+=i\n",
        "print(sum)"
      ],
      "metadata": {
        "colab": {
          "base_uri": "https://localhost:8080/"
        },
        "id": "rfK7p3v3gYoU",
        "outputId": "a563ce34-c6ce-4702-d838-9537844b615e"
      },
      "execution_count": null,
      "outputs": [
        {
          "output_type": "stream",
          "name": "stdout",
          "text": [
            "98\n",
            "23\n",
            "437\n"
          ]
        }
      ]
    },
    {
      "cell_type": "markdown",
      "source": [
        "**30)How will you compare two lists?**\n",
        "\n",
        "---\n",
        "\n"
      ],
      "metadata": {
        "id": "vUnjhzlKhmYT"
      }
    },
    {
      "cell_type": "code",
      "source": [
        "list1 = [1, 2, 3]\n",
        "list2 = [1, 2, 3]\n",
        "print(list1 == list2)"
      ],
      "metadata": {
        "colab": {
          "base_uri": "https://localhost:8080/"
        },
        "id": "N3rvphR0iIvK",
        "outputId": "b742cb1f-4ef9-4721-ae95-18518317def1"
      },
      "execution_count": null,
      "outputs": [
        {
          "output_type": "stream",
          "name": "stdout",
          "text": [
            "True\n"
          ]
        }
      ]
    },
    {
      "cell_type": "markdown",
      "source": [
        "**31) Write a Python program to count the number of strings where the string\n",
        "length is 2 or more and the first and last character are same from a given list\n",
        "of strings.**\n",
        "\n",
        "---\n",
        "\n"
      ],
      "metadata": {
        "id": "RVXuPcuujRBZ"
      }
    },
    {
      "cell_type": "code",
      "source": [
        "def count_string(my_str):\n",
        "  count = 0\n",
        "  for i in my_str:\n",
        "    if len(i)>=2 and i[0]==i[-1]:\n",
        "      count+=1\n",
        "  return count\n",
        "my_str = ['abc', 'xyz', 'aba', '1221', 'aa']\n",
        "result = count_string(my_str)\n",
        "print(result)"
      ],
      "metadata": {
        "colab": {
          "base_uri": "https://localhost:8080/"
        },
        "id": "gFC4W4EIjWOb",
        "outputId": "ebf8c75b-4a2d-4b73-a187-29de49c3580d"
      },
      "execution_count": null,
      "outputs": [
        {
          "output_type": "stream",
          "name": "stdout",
          "text": [
            "3\n"
          ]
        }
      ]
    },
    {
      "cell_type": "markdown",
      "source": [
        "**32)Write a Python program to remove duplicates from a list.**\n",
        "\n",
        "---\n",
        "\n"
      ],
      "metadata": {
        "id": "FVaJMN-4mdvO"
      }
    },
    {
      "cell_type": "code",
      "source": [
        "def remove_duplicates_list(my_list):\n",
        "  return list(set(my_list))\n",
        "remove_duplicates_list([1,2,3,2,3,6,4,3,5])"
      ],
      "metadata": {
        "colab": {
          "base_uri": "https://localhost:8080/"
        },
        "id": "mUeveg0ZmhD-",
        "outputId": "3c3e5756-be5c-4a43-e3f1-2703253955bd"
      },
      "execution_count": null,
      "outputs": [
        {
          "output_type": "execute_result",
          "data": {
            "text/plain": [
              "[1, 2, 3, 4, 5, 6]"
            ]
          },
          "metadata": {},
          "execution_count": 14
        }
      ]
    },
    {
      "cell_type": "code",
      "source": [
        "def remove_duplicates_list(my_list):\n",
        "  return list(dict.fromkeys(my_list))\n",
        "remove_duplicates_list([1,2,3,2,3,6,4,3,5])"
      ],
      "metadata": {
        "colab": {
          "base_uri": "https://localhost:8080/"
        },
        "id": "QR89asLnnoPf",
        "outputId": "ed208893-b8a2-44db-845c-f24e25b4a5de"
      },
      "execution_count": null,
      "outputs": [
        {
          "output_type": "execute_result",
          "data": {
            "text/plain": [
              "[1, 2, 3, 6, 4, 5]"
            ]
          },
          "metadata": {},
          "execution_count": 15
        }
      ]
    },
    {
      "cell_type": "markdown",
      "source": [
        "**33)Write a Python program to check a list is empty or not.**\n",
        "\n",
        "---\n",
        "\n"
      ],
      "metadata": {
        "id": "lvWphWEWoh8w"
      }
    },
    {
      "cell_type": "code",
      "source": [
        "def is_list_empty(my_list):\n",
        "  return len(my_list)==0\n",
        "is_list_empty([1,2,3])"
      ],
      "metadata": {
        "colab": {
          "base_uri": "https://localhost:8080/"
        },
        "id": "NUx0GxUoo08p",
        "outputId": "41fbddaa-5dff-4d3f-c25f-8cfe49145b5c"
      },
      "execution_count": null,
      "outputs": [
        {
          "output_type": "execute_result",
          "data": {
            "text/plain": [
              "False"
            ]
          },
          "metadata": {},
          "execution_count": 16
        }
      ]
    },
    {
      "cell_type": "markdown",
      "source": [
        "**34) Write a Python function that takes two lists and returns true if they\n",
        "have at least one common member.**\n",
        "\n",
        "---\n",
        "\n"
      ],
      "metadata": {
        "id": "obF5oO5apQiL"
      }
    },
    {
      "cell_type": "code",
      "source": [
        "def common_member_list(list1,list2):\n",
        "  for i in list1:\n",
        "    if i in list2:\n",
        "      return True\n",
        "  return False\n",
        "list1 = [1,2,3,4,43]\n",
        "list2 = [3,565,87,678,899]\n",
        "print(common_member_list(list1,list2))"
      ],
      "metadata": {
        "colab": {
          "base_uri": "https://localhost:8080/"
        },
        "id": "iQ1YkKMCpT8F",
        "outputId": "aefc7a77-5625-4b7c-8d88-b2e18fa06ecd"
      },
      "execution_count": null,
      "outputs": [
        {
          "output_type": "stream",
          "name": "stdout",
          "text": [
            "True\n"
          ]
        }
      ]
    },
    {
      "cell_type": "markdown",
      "source": [
        "**35) Write a Python program to generate and print a list of first and last 5\n",
        "elements where the values are square of numbers between 1 and 30.**\n",
        "\n",
        "---\n",
        "\n"
      ],
      "metadata": {
        "id": "i0_lqnUYvIia"
      }
    },
    {
      "cell_type": "code",
      "source": [
        "squares = [x**2 for x in range(1, 31)]\n",
        "result = squares[:5]+squares[-5:]\n",
        "print(result)"
      ],
      "metadata": {
        "colab": {
          "base_uri": "https://localhost:8080/"
        },
        "id": "b-mZaGHiqIVC",
        "outputId": "d1be8c27-0b9d-4db2-9353-3408837c163a"
      },
      "execution_count": null,
      "outputs": [
        {
          "output_type": "stream",
          "name": "stdout",
          "text": [
            "[1, 4, 9, 16, 25, 676, 729, 784, 841, 900]\n"
          ]
        }
      ]
    },
    {
      "cell_type": "markdown",
      "source": [
        "**36) Write a Python function that takes a list and returns a new list with\n",
        "unique elements of the first list.**\n",
        "\n",
        "---\n",
        "\n"
      ],
      "metadata": {
        "id": "ZjjdY1mIBRlX"
      }
    },
    {
      "cell_type": "code",
      "source": [
        "def list_unique_elements(my_list):\n",
        "    unique_elements = []\n",
        "    seen = set()\n",
        "    for i in my_list:\n",
        "        if i not in seen:\n",
        "            unique_elements.append(i)\n",
        "            seen.add(i)\n",
        "    return unique_elements\n",
        "list_unique_elements([1,45,77,87,45,89,45,35,98,34])"
      ],
      "metadata": {
        "colab": {
          "base_uri": "https://localhost:8080/"
        },
        "id": "rQ7k9uIRBWoQ",
        "outputId": "c8ec902c-7584-4327-d996-fe3d74438412"
      },
      "execution_count": null,
      "outputs": [
        {
          "output_type": "execute_result",
          "data": {
            "text/plain": [
              "[1, 45, 77, 87, 89, 35, 98, 34]"
            ]
          },
          "metadata": {},
          "execution_count": 6
        }
      ]
    },
    {
      "cell_type": "markdown",
      "source": [
        "**37)Write a Python program to convert a list of characters into a string.**\n",
        "\n",
        "---\n",
        "\n"
      ],
      "metadata": {
        "id": "PN7WpksUCf2u"
      }
    },
    {
      "cell_type": "code",
      "source": [
        "def list_to_string(my_list):\n",
        "  result = ''.join(my_list)\n",
        "  return result\n",
        "list_to_string(['H','e','l','l','o',' ','W','o','r','l','d'])"
      ],
      "metadata": {
        "colab": {
          "base_uri": "https://localhost:8080/",
          "height": 35
        },
        "id": "9EyzJ5ruCjP5",
        "outputId": "bac925ba-1ca5-4cb7-cb5c-801f317961c9"
      },
      "execution_count": null,
      "outputs": [
        {
          "output_type": "execute_result",
          "data": {
            "text/plain": [
              "'Hello World'"
            ],
            "application/vnd.google.colaboratory.intrinsic+json": {
              "type": "string"
            }
          },
          "metadata": {},
          "execution_count": 8
        }
      ]
    },
    {
      "cell_type": "markdown",
      "source": [
        "**38)Write a Python program to select an item randomly from a list.**\n",
        "\n",
        "---\n",
        "\n"
      ],
      "metadata": {
        "id": "36aoJ-YCDqv5"
      }
    },
    {
      "cell_type": "code",
      "source": [
        "import random\n",
        "def select_random_item_list(my_list):\n",
        "  return random.choice(my_list)\n",
        "select_random_item_list([1,2,3,'a','d','s','n'])"
      ],
      "metadata": {
        "colab": {
          "base_uri": "https://localhost:8080/",
          "height": 35
        },
        "id": "7Tcns_86DvvQ",
        "outputId": "a0092112-e360-4d5c-a0c4-b6b26472f9fb"
      },
      "execution_count": null,
      "outputs": [
        {
          "output_type": "execute_result",
          "data": {
            "text/plain": [
              "'d'"
            ],
            "application/vnd.google.colaboratory.intrinsic+json": {
              "type": "string"
            }
          },
          "metadata": {},
          "execution_count": 9
        }
      ]
    },
    {
      "cell_type": "markdown",
      "source": [
        "**39)Write a Python program to find the second smallest number in a list.**\n",
        "\n",
        "---\n",
        "\n"
      ],
      "metadata": {
        "id": "SRmtUQ1MEzx3"
      }
    },
    {
      "cell_type": "code",
      "source": [
        "def second_smallest_number_list(my_list):\n",
        "  unique_numbers = list(set(my_list))\n",
        "  unique_numbers.sort()\n",
        "  return unique_numbers[1] if len(unique_numbers) > 1 else None\n",
        "second_smallest_number_list([1,2,7,8,65,76,34,97])"
      ],
      "metadata": {
        "colab": {
          "base_uri": "https://localhost:8080/"
        },
        "id": "mxu4SVoyE30g",
        "outputId": "e6b4350a-cf62-4e5b-94fb-bc37898fbd1c"
      },
      "execution_count": null,
      "outputs": [
        {
          "output_type": "execute_result",
          "data": {
            "text/plain": [
              "2"
            ]
          },
          "metadata": {},
          "execution_count": 10
        }
      ]
    },
    {
      "cell_type": "markdown",
      "source": [
        "**40)Write a Python program to get unique values from a list.**\n",
        "\n",
        "---\n",
        "\n"
      ],
      "metadata": {
        "id": "fYvjel0AGI3m"
      }
    },
    {
      "cell_type": "code",
      "source": [
        "def get_unique_values_list(my_list):\n",
        "  return list(set(my_list))\n",
        "get_unique_values_list([1,45,87,34,87,12,23,87,65,45])"
      ],
      "metadata": {
        "colab": {
          "base_uri": "https://localhost:8080/"
        },
        "id": "IYW8yqq0GMNY",
        "outputId": "52919173-9eeb-48e9-8928-4bbb5384e1a7"
      },
      "execution_count": null,
      "outputs": [
        {
          "output_type": "execute_result",
          "data": {
            "text/plain": [
              "[1, 34, 65, 12, 45, 23, 87]"
            ]
          },
          "metadata": {},
          "execution_count": 11
        }
      ]
    },
    {
      "cell_type": "markdown",
      "source": [
        "**41)Write a Python program to check whether a list contains a sub list.**\n",
        "\n",
        "---\n",
        "\n"
      ],
      "metadata": {
        "id": "M_Q3C3cqG7Xo"
      }
    },
    {
      "cell_type": "code",
      "source": [
        "def contains_sublist(main_list, sub_list):\n",
        "  len_main = len(main_list)\n",
        "  len_sub = len(sub_list)\n",
        "  if len_sub > len_main:\n",
        "    return False\n",
        "  for i in range(len_main - len_sub + 1):\n",
        "        if main_list[i:i + len_sub] == sub_list:\n",
        "            return True\n",
        "  return False\n",
        "main_list = [1, 2, 3, 4, 5]\n",
        "sub_list1 = [2, 3, 4]\n",
        "sub_list2 = [3, 5]\n",
        "print(contains_sublist(main_list,sub_list1))\n",
        "print(contains_sublist(main_list,sub_list2))"
      ],
      "metadata": {
        "id": "aKowmrdWG_W9",
        "colab": {
          "base_uri": "https://localhost:8080/"
        },
        "outputId": "bb694a29-3df0-45dd-d764-fab7433c3cf6"
      },
      "execution_count": null,
      "outputs": [
        {
          "output_type": "stream",
          "name": "stdout",
          "text": [
            "True\n",
            "False\n"
          ]
        }
      ]
    },
    {
      "cell_type": "markdown",
      "source": [
        "**42)Write a Python program to split a list into different variables.**\n",
        "\n",
        "---\n",
        "\n"
      ],
      "metadata": {
        "id": "qKSoHI0L0T9w"
      }
    },
    {
      "cell_type": "code",
      "source": [
        "my_list = [1,2,3,4,5]\n",
        "a,b,c,d,e = my_list\n",
        "print(a)\n",
        "print(b)\n",
        "print(c)\n",
        "print(d)\n",
        "print(e)"
      ],
      "metadata": {
        "colab": {
          "base_uri": "https://localhost:8080/"
        },
        "id": "EsVoYDzb0Y_3",
        "outputId": "5a97ad77-e72f-4f45-d45a-a0969cf137af"
      },
      "execution_count": null,
      "outputs": [
        {
          "output_type": "stream",
          "name": "stdout",
          "text": [
            "1\n",
            "2\n",
            "3\n",
            "4\n",
            "5\n"
          ]
        }
      ]
    },
    {
      "cell_type": "markdown",
      "source": [
        "**43)What is tuple? Difference between list and tuple.**\n",
        "\n",
        "---\n",
        "A tuple in Python is an immutable, ordered collection of elements. This means that once a tuple is created, its elements cannot be changed, added, or removed. Tuples are defined using parentheses ()\n"
      ],
      "metadata": {
        "id": "PoVIR_EZ3FKZ"
      }
    },
    {
      "cell_type": "code",
      "source": [
        "import pandas as pd\n",
        "data = {\n",
        "    \"Feature\": [\"Syntax\", \"Mutability\", \"Methods\", \"Performance\", \"Usage\", \"Memory\"],\n",
        "    \"List\": [\"Defined using []\", \"Mutable (can be changed)\",\n",
        "             \"More built-in methods (e.g., append, remove, etc.)\",\n",
        "             \"Generally slower due to extra overhead for mutability\",\n",
        "             \"Suitable for collections of items that may change\",\n",
        "             \"Consumes more memory\"],\n",
        "    \"Tuple\": [\"Defined using ()\", \"Immutable (cannot be changed)\",\n",
        "              \"Fewer built-in methods (e.g., count, index)\",\n",
        "              \"Generally faster due to immutability\",\n",
        "              \"Suitable for collections of items that should not change\",\n",
        "              \"Consumes less memory\"]\n",
        "}\n",
        "df = pd.DataFrame(data)\n",
        "df"
      ],
      "metadata": {
        "colab": {
          "base_uri": "https://localhost:8080/",
          "height": 268
        },
        "id": "jBKeLhoS5h-F",
        "outputId": "2f614405-a4e9-4b04-a88a-78ad5da43f1a"
      },
      "execution_count": null,
      "outputs": [
        {
          "output_type": "execute_result",
          "data": {
            "text/plain": [
              "       Feature                                               List  \\\n",
              "0       Syntax                                   Defined using []   \n",
              "1   Mutability                           Mutable (can be changed)   \n",
              "2      Methods  More built-in methods (e.g., append, remove, e...   \n",
              "3  Performance  Generally slower due to extra overhead for mut...   \n",
              "4        Usage  Suitable for collections of items that may change   \n",
              "5       Memory                               Consumes more memory   \n",
              "\n",
              "                                               Tuple  \n",
              "0                                   Defined using ()  \n",
              "1                      Immutable (cannot be changed)  \n",
              "2        Fewer built-in methods (e.g., count, index)  \n",
              "3               Generally faster due to immutability  \n",
              "4  Suitable for collections of items that should ...  \n",
              "5                               Consumes less memory  "
            ],
            "text/html": [
              "\n",
              "  <div id=\"df-94e69a62-160c-47a0-907e-78260652e667\" class=\"colab-df-container\">\n",
              "    <div>\n",
              "<style scoped>\n",
              "    .dataframe tbody tr th:only-of-type {\n",
              "        vertical-align: middle;\n",
              "    }\n",
              "\n",
              "    .dataframe tbody tr th {\n",
              "        vertical-align: top;\n",
              "    }\n",
              "\n",
              "    .dataframe thead th {\n",
              "        text-align: right;\n",
              "    }\n",
              "</style>\n",
              "<table border=\"1\" class=\"dataframe\">\n",
              "  <thead>\n",
              "    <tr style=\"text-align: right;\">\n",
              "      <th></th>\n",
              "      <th>Feature</th>\n",
              "      <th>List</th>\n",
              "      <th>Tuple</th>\n",
              "    </tr>\n",
              "  </thead>\n",
              "  <tbody>\n",
              "    <tr>\n",
              "      <th>0</th>\n",
              "      <td>Syntax</td>\n",
              "      <td>Defined using []</td>\n",
              "      <td>Defined using ()</td>\n",
              "    </tr>\n",
              "    <tr>\n",
              "      <th>1</th>\n",
              "      <td>Mutability</td>\n",
              "      <td>Mutable (can be changed)</td>\n",
              "      <td>Immutable (cannot be changed)</td>\n",
              "    </tr>\n",
              "    <tr>\n",
              "      <th>2</th>\n",
              "      <td>Methods</td>\n",
              "      <td>More built-in methods (e.g., append, remove, e...</td>\n",
              "      <td>Fewer built-in methods (e.g., count, index)</td>\n",
              "    </tr>\n",
              "    <tr>\n",
              "      <th>3</th>\n",
              "      <td>Performance</td>\n",
              "      <td>Generally slower due to extra overhead for mut...</td>\n",
              "      <td>Generally faster due to immutability</td>\n",
              "    </tr>\n",
              "    <tr>\n",
              "      <th>4</th>\n",
              "      <td>Usage</td>\n",
              "      <td>Suitable for collections of items that may change</td>\n",
              "      <td>Suitable for collections of items that should ...</td>\n",
              "    </tr>\n",
              "    <tr>\n",
              "      <th>5</th>\n",
              "      <td>Memory</td>\n",
              "      <td>Consumes more memory</td>\n",
              "      <td>Consumes less memory</td>\n",
              "    </tr>\n",
              "  </tbody>\n",
              "</table>\n",
              "</div>\n",
              "    <div class=\"colab-df-buttons\">\n",
              "\n",
              "  <div class=\"colab-df-container\">\n",
              "    <button class=\"colab-df-convert\" onclick=\"convertToInteractive('df-94e69a62-160c-47a0-907e-78260652e667')\"\n",
              "            title=\"Convert this dataframe to an interactive table.\"\n",
              "            style=\"display:none;\">\n",
              "\n",
              "  <svg xmlns=\"http://www.w3.org/2000/svg\" height=\"24px\" viewBox=\"0 -960 960 960\">\n",
              "    <path d=\"M120-120v-720h720v720H120Zm60-500h600v-160H180v160Zm220 220h160v-160H400v160Zm0 220h160v-160H400v160ZM180-400h160v-160H180v160Zm440 0h160v-160H620v160ZM180-180h160v-160H180v160Zm440 0h160v-160H620v160Z\"/>\n",
              "  </svg>\n",
              "    </button>\n",
              "\n",
              "  <style>\n",
              "    .colab-df-container {\n",
              "      display:flex;\n",
              "      gap: 12px;\n",
              "    }\n",
              "\n",
              "    .colab-df-convert {\n",
              "      background-color: #E8F0FE;\n",
              "      border: none;\n",
              "      border-radius: 50%;\n",
              "      cursor: pointer;\n",
              "      display: none;\n",
              "      fill: #1967D2;\n",
              "      height: 32px;\n",
              "      padding: 0 0 0 0;\n",
              "      width: 32px;\n",
              "    }\n",
              "\n",
              "    .colab-df-convert:hover {\n",
              "      background-color: #E2EBFA;\n",
              "      box-shadow: 0px 1px 2px rgba(60, 64, 67, 0.3), 0px 1px 3px 1px rgba(60, 64, 67, 0.15);\n",
              "      fill: #174EA6;\n",
              "    }\n",
              "\n",
              "    .colab-df-buttons div {\n",
              "      margin-bottom: 4px;\n",
              "    }\n",
              "\n",
              "    [theme=dark] .colab-df-convert {\n",
              "      background-color: #3B4455;\n",
              "      fill: #D2E3FC;\n",
              "    }\n",
              "\n",
              "    [theme=dark] .colab-df-convert:hover {\n",
              "      background-color: #434B5C;\n",
              "      box-shadow: 0px 1px 3px 1px rgba(0, 0, 0, 0.15);\n",
              "      filter: drop-shadow(0px 1px 2px rgba(0, 0, 0, 0.3));\n",
              "      fill: #FFFFFF;\n",
              "    }\n",
              "  </style>\n",
              "\n",
              "    <script>\n",
              "      const buttonEl =\n",
              "        document.querySelector('#df-94e69a62-160c-47a0-907e-78260652e667 button.colab-df-convert');\n",
              "      buttonEl.style.display =\n",
              "        google.colab.kernel.accessAllowed ? 'block' : 'none';\n",
              "\n",
              "      async function convertToInteractive(key) {\n",
              "        const element = document.querySelector('#df-94e69a62-160c-47a0-907e-78260652e667');\n",
              "        const dataTable =\n",
              "          await google.colab.kernel.invokeFunction('convertToInteractive',\n",
              "                                                    [key], {});\n",
              "        if (!dataTable) return;\n",
              "\n",
              "        const docLinkHtml = 'Like what you see? Visit the ' +\n",
              "          '<a target=\"_blank\" href=https://colab.research.google.com/notebooks/data_table.ipynb>data table notebook</a>'\n",
              "          + ' to learn more about interactive tables.';\n",
              "        element.innerHTML = '';\n",
              "        dataTable['output_type'] = 'display_data';\n",
              "        await google.colab.output.renderOutput(dataTable, element);\n",
              "        const docLink = document.createElement('div');\n",
              "        docLink.innerHTML = docLinkHtml;\n",
              "        element.appendChild(docLink);\n",
              "      }\n",
              "    </script>\n",
              "  </div>\n",
              "\n",
              "\n",
              "<div id=\"df-d1f969a7-a5c8-4051-9f35-e6035530c7e4\">\n",
              "  <button class=\"colab-df-quickchart\" onclick=\"quickchart('df-d1f969a7-a5c8-4051-9f35-e6035530c7e4')\"\n",
              "            title=\"Suggest charts\"\n",
              "            style=\"display:none;\">\n",
              "\n",
              "<svg xmlns=\"http://www.w3.org/2000/svg\" height=\"24px\"viewBox=\"0 0 24 24\"\n",
              "     width=\"24px\">\n",
              "    <g>\n",
              "        <path d=\"M19 3H5c-1.1 0-2 .9-2 2v14c0 1.1.9 2 2 2h14c1.1 0 2-.9 2-2V5c0-1.1-.9-2-2-2zM9 17H7v-7h2v7zm4 0h-2V7h2v10zm4 0h-2v-4h2v4z\"/>\n",
              "    </g>\n",
              "</svg>\n",
              "  </button>\n",
              "\n",
              "<style>\n",
              "  .colab-df-quickchart {\n",
              "      --bg-color: #E8F0FE;\n",
              "      --fill-color: #1967D2;\n",
              "      --hover-bg-color: #E2EBFA;\n",
              "      --hover-fill-color: #174EA6;\n",
              "      --disabled-fill-color: #AAA;\n",
              "      --disabled-bg-color: #DDD;\n",
              "  }\n",
              "\n",
              "  [theme=dark] .colab-df-quickchart {\n",
              "      --bg-color: #3B4455;\n",
              "      --fill-color: #D2E3FC;\n",
              "      --hover-bg-color: #434B5C;\n",
              "      --hover-fill-color: #FFFFFF;\n",
              "      --disabled-bg-color: #3B4455;\n",
              "      --disabled-fill-color: #666;\n",
              "  }\n",
              "\n",
              "  .colab-df-quickchart {\n",
              "    background-color: var(--bg-color);\n",
              "    border: none;\n",
              "    border-radius: 50%;\n",
              "    cursor: pointer;\n",
              "    display: none;\n",
              "    fill: var(--fill-color);\n",
              "    height: 32px;\n",
              "    padding: 0;\n",
              "    width: 32px;\n",
              "  }\n",
              "\n",
              "  .colab-df-quickchart:hover {\n",
              "    background-color: var(--hover-bg-color);\n",
              "    box-shadow: 0 1px 2px rgba(60, 64, 67, 0.3), 0 1px 3px 1px rgba(60, 64, 67, 0.15);\n",
              "    fill: var(--button-hover-fill-color);\n",
              "  }\n",
              "\n",
              "  .colab-df-quickchart-complete:disabled,\n",
              "  .colab-df-quickchart-complete:disabled:hover {\n",
              "    background-color: var(--disabled-bg-color);\n",
              "    fill: var(--disabled-fill-color);\n",
              "    box-shadow: none;\n",
              "  }\n",
              "\n",
              "  .colab-df-spinner {\n",
              "    border: 2px solid var(--fill-color);\n",
              "    border-color: transparent;\n",
              "    border-bottom-color: var(--fill-color);\n",
              "    animation:\n",
              "      spin 1s steps(1) infinite;\n",
              "  }\n",
              "\n",
              "  @keyframes spin {\n",
              "    0% {\n",
              "      border-color: transparent;\n",
              "      border-bottom-color: var(--fill-color);\n",
              "      border-left-color: var(--fill-color);\n",
              "    }\n",
              "    20% {\n",
              "      border-color: transparent;\n",
              "      border-left-color: var(--fill-color);\n",
              "      border-top-color: var(--fill-color);\n",
              "    }\n",
              "    30% {\n",
              "      border-color: transparent;\n",
              "      border-left-color: var(--fill-color);\n",
              "      border-top-color: var(--fill-color);\n",
              "      border-right-color: var(--fill-color);\n",
              "    }\n",
              "    40% {\n",
              "      border-color: transparent;\n",
              "      border-right-color: var(--fill-color);\n",
              "      border-top-color: var(--fill-color);\n",
              "    }\n",
              "    60% {\n",
              "      border-color: transparent;\n",
              "      border-right-color: var(--fill-color);\n",
              "    }\n",
              "    80% {\n",
              "      border-color: transparent;\n",
              "      border-right-color: var(--fill-color);\n",
              "      border-bottom-color: var(--fill-color);\n",
              "    }\n",
              "    90% {\n",
              "      border-color: transparent;\n",
              "      border-bottom-color: var(--fill-color);\n",
              "    }\n",
              "  }\n",
              "</style>\n",
              "\n",
              "  <script>\n",
              "    async function quickchart(key) {\n",
              "      const quickchartButtonEl =\n",
              "        document.querySelector('#' + key + ' button');\n",
              "      quickchartButtonEl.disabled = true;  // To prevent multiple clicks.\n",
              "      quickchartButtonEl.classList.add('colab-df-spinner');\n",
              "      try {\n",
              "        const charts = await google.colab.kernel.invokeFunction(\n",
              "            'suggestCharts', [key], {});\n",
              "      } catch (error) {\n",
              "        console.error('Error during call to suggestCharts:', error);\n",
              "      }\n",
              "      quickchartButtonEl.classList.remove('colab-df-spinner');\n",
              "      quickchartButtonEl.classList.add('colab-df-quickchart-complete');\n",
              "    }\n",
              "    (() => {\n",
              "      let quickchartButtonEl =\n",
              "        document.querySelector('#df-d1f969a7-a5c8-4051-9f35-e6035530c7e4 button');\n",
              "      quickchartButtonEl.style.display =\n",
              "        google.colab.kernel.accessAllowed ? 'block' : 'none';\n",
              "    })();\n",
              "  </script>\n",
              "</div>\n",
              "\n",
              "  <div id=\"id_b337390f-1629-4ce6-bac6-3c8f48695a64\">\n",
              "    <style>\n",
              "      .colab-df-generate {\n",
              "        background-color: #E8F0FE;\n",
              "        border: none;\n",
              "        border-radius: 50%;\n",
              "        cursor: pointer;\n",
              "        display: none;\n",
              "        fill: #1967D2;\n",
              "        height: 32px;\n",
              "        padding: 0 0 0 0;\n",
              "        width: 32px;\n",
              "      }\n",
              "\n",
              "      .colab-df-generate:hover {\n",
              "        background-color: #E2EBFA;\n",
              "        box-shadow: 0px 1px 2px rgba(60, 64, 67, 0.3), 0px 1px 3px 1px rgba(60, 64, 67, 0.15);\n",
              "        fill: #174EA6;\n",
              "      }\n",
              "\n",
              "      [theme=dark] .colab-df-generate {\n",
              "        background-color: #3B4455;\n",
              "        fill: #D2E3FC;\n",
              "      }\n",
              "\n",
              "      [theme=dark] .colab-df-generate:hover {\n",
              "        background-color: #434B5C;\n",
              "        box-shadow: 0px 1px 3px 1px rgba(0, 0, 0, 0.15);\n",
              "        filter: drop-shadow(0px 1px 2px rgba(0, 0, 0, 0.3));\n",
              "        fill: #FFFFFF;\n",
              "      }\n",
              "    </style>\n",
              "    <button class=\"colab-df-generate\" onclick=\"generateWithVariable('df')\"\n",
              "            title=\"Generate code using this dataframe.\"\n",
              "            style=\"display:none;\">\n",
              "\n",
              "  <svg xmlns=\"http://www.w3.org/2000/svg\" height=\"24px\"viewBox=\"0 0 24 24\"\n",
              "       width=\"24px\">\n",
              "    <path d=\"M7,19H8.4L18.45,9,17,7.55,7,17.6ZM5,21V16.75L18.45,3.32a2,2,0,0,1,2.83,0l1.4,1.43a1.91,1.91,0,0,1,.58,1.4,1.91,1.91,0,0,1-.58,1.4L9.25,21ZM18.45,9,17,7.55Zm-12,3A5.31,5.31,0,0,0,4.9,8.1,5.31,5.31,0,0,0,1,6.5,5.31,5.31,0,0,0,4.9,4.9,5.31,5.31,0,0,0,6.5,1,5.31,5.31,0,0,0,8.1,4.9,5.31,5.31,0,0,0,12,6.5,5.46,5.46,0,0,0,6.5,12Z\"/>\n",
              "  </svg>\n",
              "    </button>\n",
              "    <script>\n",
              "      (() => {\n",
              "      const buttonEl =\n",
              "        document.querySelector('#id_b337390f-1629-4ce6-bac6-3c8f48695a64 button.colab-df-generate');\n",
              "      buttonEl.style.display =\n",
              "        google.colab.kernel.accessAllowed ? 'block' : 'none';\n",
              "\n",
              "      buttonEl.onclick = () => {\n",
              "        google.colab.notebook.generateWithVariable('df');\n",
              "      }\n",
              "      })();\n",
              "    </script>\n",
              "  </div>\n",
              "\n",
              "    </div>\n",
              "  </div>\n"
            ],
            "application/vnd.google.colaboratory.intrinsic+json": {
              "type": "dataframe",
              "variable_name": "df",
              "summary": "{\n  \"name\": \"df\",\n  \"rows\": 6,\n  \"fields\": [\n    {\n      \"column\": \"Feature\",\n      \"properties\": {\n        \"dtype\": \"string\",\n        \"num_unique_values\": 6,\n        \"samples\": [\n          \"Syntax\",\n          \"Mutability\",\n          \"Memory\"\n        ],\n        \"semantic_type\": \"\",\n        \"description\": \"\"\n      }\n    },\n    {\n      \"column\": \"List\",\n      \"properties\": {\n        \"dtype\": \"string\",\n        \"num_unique_values\": 6,\n        \"samples\": [\n          \"Defined using []\",\n          \"Mutable (can be changed)\",\n          \"Consumes more memory\"\n        ],\n        \"semantic_type\": \"\",\n        \"description\": \"\"\n      }\n    },\n    {\n      \"column\": \"Tuple\",\n      \"properties\": {\n        \"dtype\": \"string\",\n        \"num_unique_values\": 6,\n        \"samples\": [\n          \"Defined using ()\",\n          \"Immutable (cannot be changed)\",\n          \"Consumes less memory\"\n        ],\n        \"semantic_type\": \"\",\n        \"description\": \"\"\n      }\n    }\n  ]\n}"
            }
          },
          "metadata": {},
          "execution_count": 1
        }
      ]
    },
    {
      "cell_type": "markdown",
      "source": [
        "**44)Write a Python program to create a tuple with different data types.**\n",
        "\n",
        "---\n",
        "\n"
      ],
      "metadata": {
        "id": "FbT9iwni7gfr"
      }
    },
    {
      "cell_type": "code",
      "source": [
        "my_tuple = (1, \"Hello\", 3.14, True, [1, 2, 3], {'a': 1, 'b': 2}, (5, 6), None)\n",
        "for i in my_tuple:\n",
        "  j = type(i)\n",
        "  print(f\"{i}:{j}\")"
      ],
      "metadata": {
        "id": "wAk5BNTx8k2a",
        "colab": {
          "base_uri": "https://localhost:8080/"
        },
        "outputId": "fe0147b8-26df-44fc-f1a6-8f3493119cb6"
      },
      "execution_count": null,
      "outputs": [
        {
          "output_type": "stream",
          "name": "stdout",
          "text": [
            "1:<class 'int'>\n",
            "Hello:<class 'str'>\n",
            "3.14:<class 'float'>\n",
            "True:<class 'bool'>\n",
            "[1, 2, 3]:<class 'list'>\n",
            "{'a': 1, 'b': 2}:<class 'dict'>\n",
            "(5, 6):<class 'tuple'>\n",
            "None:<class 'NoneType'>\n"
          ]
        }
      ]
    },
    {
      "cell_type": "markdown",
      "source": [
        "**45)Write a Python program to unzip a list of tuples into individual lists.**\n",
        "\n",
        "---\n",
        "\n"
      ],
      "metadata": {
        "id": "9wcWKCpE_0Jr"
      }
    },
    {
      "cell_type": "code",
      "source": [
        "my_list = [(1,\"Apple\"),(2,\"Banana\"),(3,\"Mango\"),(4,\"Cherry\")]\n",
        "list1 , list2 = zip(*my_list)\n",
        "print(\"List1:\",list(list1))\n",
        "print(\"List2:\",list(list2))"
      ],
      "metadata": {
        "colab": {
          "base_uri": "https://localhost:8080/"
        },
        "id": "Yv3Xi2Kt_yIC",
        "outputId": "4e3b3ced-debe-4097-8673-62c91e5a11cd"
      },
      "execution_count": null,
      "outputs": [
        {
          "output_type": "stream",
          "name": "stdout",
          "text": [
            "List1: [1, 2, 3, 4]\n",
            "List2: ['Apple', 'Banana', 'Mango', 'Cherry']\n"
          ]
        }
      ]
    },
    {
      "cell_type": "markdown",
      "source": [
        "**46)Write a Python program to convert a list of tuples into a dictionary.**\n",
        "\n",
        "---\n",
        "\n"
      ],
      "metadata": {
        "id": "Sr9OZSCDFuRk"
      }
    },
    {
      "cell_type": "code",
      "source": [
        "my_list = [(1,\"Apple\"),(2,\"Banana\"),(3,\"Mango\"),(4,\"Cherry\")]\n",
        "my_dict = dict(my_list)\n",
        "print(my_dict)"
      ],
      "metadata": {
        "colab": {
          "base_uri": "https://localhost:8080/"
        },
        "id": "qY6C2WcZFyOY",
        "outputId": "e69b461d-ec56-4b3b-c37a-4641e4da62cb"
      },
      "execution_count": null,
      "outputs": [
        {
          "output_type": "stream",
          "name": "stdout",
          "text": [
            "{1: 'Apple', 2: 'Banana', 3: 'Mango', 4: 'Cherry'}\n"
          ]
        }
      ]
    },
    {
      "cell_type": "markdown",
      "source": [
        "**47)How will you create a dictionary using tuples in python?**\n",
        "\n",
        "---\n",
        "\n"
      ],
      "metadata": {
        "id": "ZuUabf52GhGw"
      }
    },
    {
      "cell_type": "code",
      "source": [
        "my_tuple = ((1,\"Apple\"),(2,\"Banana\"),(3,\"Mango\"),(4,\"Cherry\"))\n",
        "my_dict = dict(my_tuple)\n",
        "print(my_dict)"
      ],
      "metadata": {
        "colab": {
          "base_uri": "https://localhost:8080/"
        },
        "id": "cOIyriaLGlWc",
        "outputId": "174f6478-d18e-4926-8df9-116a7589622e"
      },
      "execution_count": null,
      "outputs": [
        {
          "output_type": "stream",
          "name": "stdout",
          "text": [
            "{1: 'Apple', 2: 'Banana', 3: 'Mango', 4: 'Cherry'}\n"
          ]
        }
      ]
    },
    {
      "cell_type": "markdown",
      "source": [
        "**48)Write a Python script to sort (ascending and descending) a\n",
        "dictionary by value.**\n",
        "\n",
        "---\n",
        "\n"
      ],
      "metadata": {
        "id": "AfonWW1gZRgd"
      }
    },
    {
      "cell_type": "code",
      "source": [
        "my_dict = {'Apple': 3, 'Banana': 1, 'Cherry': 2, 'Mango': 4}\n",
        "sorted_asending = dict(sorted(my_dict.items(),key=lambda item: item[1]))\n",
        "sorted_desending  = dict(sorted(my_dict.items(),key=lambda item:item[1],reverse=True))\n",
        "print(\"Asending:\",sorted_asending)\n",
        "print(\"Desending:\",sorted_desending)"
      ],
      "metadata": {
        "colab": {
          "base_uri": "https://localhost:8080/"
        },
        "id": "n6Qf1hfHZVMy",
        "outputId": "fa828f57-40a5-4d27-b6fe-6364a5370f3e"
      },
      "execution_count": null,
      "outputs": [
        {
          "output_type": "stream",
          "name": "stdout",
          "text": [
            "Asending: {'Banana': 1, 'Cherry': 2, 'Apple': 3, 'Mango': 4}\n",
            "Desending: {'Mango': 4, 'Apple': 3, 'Cherry': 2, 'Banana': 1}\n"
          ]
        }
      ]
    },
    {
      "cell_type": "markdown",
      "source": [
        "**49)Write a Python script to concatenate following dictionaries to create\n",
        "a new one.**\n",
        "\n",
        "---\n",
        "\n"
      ],
      "metadata": {
        "id": "ECppXkgJd_En"
      }
    },
    {
      "cell_type": "code",
      "source": [
        "dict1 = {'Apple':1 , 'Banana':2}\n",
        "dict2 = {'Cherry':3 , 'Mango':4}\n",
        "my_list = [dict1,dict2]\n",
        "my_dict = {}\n",
        "for i in my_list:\n",
        "  my_dict.update(i)\n",
        "print(my_dict)"
      ],
      "metadata": {
        "colab": {
          "base_uri": "https://localhost:8080/"
        },
        "id": "hZBT808TeC4l",
        "outputId": "aee9a3ba-7f3d-4e73-bac6-6fb7b6666e03"
      },
      "execution_count": null,
      "outputs": [
        {
          "output_type": "stream",
          "name": "stdout",
          "text": [
            "{'Apple': 1, 'Banana': 2, 'Cherry': 3, 'Mango': 4}\n"
          ]
        }
      ]
    },
    {
      "cell_type": "markdown",
      "source": [
        "**50)Write a Python script to check if a given key already exists in a\n",
        "dictionary.**\n",
        "\n",
        "---\n",
        "\n"
      ],
      "metadata": {
        "id": "caA7jjFpgQIX"
      }
    },
    {
      "cell_type": "code",
      "source": [
        "my_dict = {'Apple': 3, 'Banana': 1, 'Cherry': 2, 'Mango': 4}\n",
        "key_check = 'Mango'\n",
        "if key_check in my_dict:\n",
        "  print(\"Exists in a dictionary\")\n",
        "else:\n",
        "  print(\"Not Exists in a dictionary\")"
      ],
      "metadata": {
        "colab": {
          "base_uri": "https://localhost:8080/"
        },
        "id": "DqSI_i01gTnx",
        "outputId": "a8092db3-2316-4448-de6a-b75b15e4ccb4"
      },
      "execution_count": null,
      "outputs": [
        {
          "output_type": "stream",
          "name": "stdout",
          "text": [
            "Exists in a dictionary\n"
          ]
        }
      ]
    },
    {
      "cell_type": "markdown",
      "source": [
        "**51)How Do You Traverse Through a Dictionary Object in Python?**\n",
        "\n",
        "---\n",
        "\n",
        "Traversing through a Python dictionary allows you to access its keys, values, or key-value pairs.\n",
        "\n",
        "**i)Using keys():**"
      ],
      "metadata": {
        "id": "A26J6GmziQrj"
      }
    },
    {
      "cell_type": "code",
      "source": [
        "my_dict = {'Apple': 3, 'Banana': 1, 'Cherry': 2, 'Mango': 4}\n",
        "for key in my_dict.keys():\n",
        "  print(key)"
      ],
      "metadata": {
        "colab": {
          "base_uri": "https://localhost:8080/"
        },
        "id": "qV9orUopiVPb",
        "outputId": "efaeb5d2-6452-49f3-8ca6-da9d29a776d7"
      },
      "execution_count": null,
      "outputs": [
        {
          "output_type": "stream",
          "name": "stdout",
          "text": [
            "Apple\n",
            "Banana\n",
            "Cherry\n",
            "Mango\n"
          ]
        }
      ]
    },
    {
      "cell_type": "markdown",
      "source": [
        "**i)Using values():**"
      ],
      "metadata": {
        "id": "9flMDDlFjTVQ"
      }
    },
    {
      "cell_type": "code",
      "source": [
        "my_dict = {'Apple': 3, 'Banana': 1, 'Cherry': 2, 'Mango': 4}\n",
        "for value in my_dict.values():\n",
        "  print(value)"
      ],
      "metadata": {
        "colab": {
          "base_uri": "https://localhost:8080/"
        },
        "id": "Q7OtPUPXjVaC",
        "outputId": "8f80e737-2ddd-4126-dc62-bee0ef935ef5"
      },
      "execution_count": null,
      "outputs": [
        {
          "output_type": "stream",
          "name": "stdout",
          "text": [
            "3\n",
            "1\n",
            "2\n",
            "4\n"
          ]
        }
      ]
    },
    {
      "cell_type": "markdown",
      "source": [
        "**iii)Using items():**"
      ],
      "metadata": {
        "id": "PT6od8AxjkB_"
      }
    },
    {
      "cell_type": "code",
      "source": [
        "my_dict = {'Apple': 3, 'Banana': 1, 'Cherry': 2, 'Mango': 4}\n",
        "for key,value in my_dict.items():\n",
        "  print(f\"{key}:{value}\")"
      ],
      "metadata": {
        "colab": {
          "base_uri": "https://localhost:8080/"
        },
        "id": "HVG62Or6ji6J",
        "outputId": "6a02a5ea-17c0-450e-e2d7-f101c7c4cb86"
      },
      "execution_count": null,
      "outputs": [
        {
          "output_type": "stream",
          "name": "stdout",
          "text": [
            "Apple:3\n",
            "Banana:1\n",
            "Cherry:2\n",
            "Mango:4\n"
          ]
        }
      ]
    },
    {
      "cell_type": "markdown",
      "source": [
        "**52)How Do You Check the Presence of a Key in A Dictionary?**\n",
        "\n",
        "---\n",
        "\n"
      ],
      "metadata": {
        "id": "S-tsrpBNIndy"
      }
    },
    {
      "cell_type": "code",
      "source": [
        "my_dict = {'Apple': 3, 'Banana': 1, 'Cherry': 2, 'Mango': 4}\n",
        "if 'Cherry' in my_dict:\n",
        "  print(\"Present\")\n",
        "else:\n",
        "  print(\"Not Present\")"
      ],
      "metadata": {
        "colab": {
          "base_uri": "https://localhost:8080/"
        },
        "id": "OhUu8gjLIsxr",
        "outputId": "65b11dac-9b55-42fd-88e7-31161a153cfc"
      },
      "execution_count": null,
      "outputs": [
        {
          "output_type": "stream",
          "name": "stdout",
          "text": [
            "Present\n"
          ]
        }
      ]
    },
    {
      "cell_type": "markdown",
      "source": [
        "**53)Write a Python script to print a dictionary where the keys are\n",
        "numbers between 1 and 15.**\n",
        "\n",
        "---\n",
        "\n"
      ],
      "metadata": {
        "id": "eKNk7xixJ4Dx"
      }
    },
    {
      "cell_type": "code",
      "source": [
        "my_dict = {i: f\"{i}\" for i in range(1, 16)}\n",
        "print(my_dict)"
      ],
      "metadata": {
        "colab": {
          "base_uri": "https://localhost:8080/"
        },
        "id": "OsP4zTNBJ75N",
        "outputId": "6039ad7f-341a-464c-977e-d5d22f36e697"
      },
      "execution_count": null,
      "outputs": [
        {
          "output_type": "stream",
          "name": "stdout",
          "text": [
            "{1: '1', 2: '2', 3: '3', 4: '4', 5: '5', 6: '6', 7: '7', 8: '8', 9: '9', 10: '10', 11: '11', 12: '12', 13: '13', 14: '14', 15: '15'}\n"
          ]
        }
      ]
    },
    {
      "cell_type": "markdown",
      "source": [
        "**54)Write a Python program to check multiple keys exists in a dictionary.**\n",
        "\n",
        "---\n",
        "\n"
      ],
      "metadata": {
        "id": "TqIyughvLfPj"
      }
    },
    {
      "cell_type": "code",
      "source": [
        "my_dict = {'a': 1, 'b': 2, 'c': 3, 'd': 4}\n",
        "check_dict = ['a','d']\n",
        "if all(key in my_dict for key in check_dict):\n",
        "  print(True)\n",
        "else:\n",
        "  print(False)"
      ],
      "metadata": {
        "colab": {
          "base_uri": "https://localhost:8080/"
        },
        "id": "DV3odadMLi9j",
        "outputId": "19c24463-64bf-413b-bca6-ad7e7fcc6bf8"
      },
      "execution_count": null,
      "outputs": [
        {
          "output_type": "stream",
          "name": "stdout",
          "text": [
            "True\n"
          ]
        }
      ]
    },
    {
      "cell_type": "markdown",
      "source": [
        "**55)Write a Python script to merge two Python dictionaries.**\n",
        "\n",
        "---\n",
        "\n"
      ],
      "metadata": {
        "id": "y0MopqyEO2Zb"
      }
    },
    {
      "cell_type": "code",
      "source": [
        "dict1 = {'a': 1, 'b': 2}\n",
        "dict2 = {'c': 3, 'd': 4}\n",
        "dict1.update(dict2)\n",
        "print(dict1)"
      ],
      "metadata": {
        "colab": {
          "base_uri": "https://localhost:8080/"
        },
        "id": "z-KjceLdO6Fk",
        "outputId": "01075787-322f-4ef0-c72e-5b70739e7da9"
      },
      "execution_count": null,
      "outputs": [
        {
          "output_type": "stream",
          "name": "stdout",
          "text": [
            "{'a': 1, 'b': 2, 'c': 3, 'd': 4}\n"
          ]
        }
      ]
    },
    {
      "cell_type": "markdown",
      "source": [
        "**56)Write a Python program to map two lists into a dictionary\n",
        "Sample output: Counter ({'a': 400, 'b': 400,’d’: 400, 'c': 300}).**\n",
        "\n",
        "---\n",
        "\n"
      ],
      "metadata": {
        "id": "q_hooQMeQBIn"
      }
    },
    {
      "cell_type": "code",
      "source": [
        "keys = ['a', 'b', 'c', 'd']\n",
        "values = [400, 400, 300, 400]\n",
        "my_dict = dict(zip(keys,values))\n",
        "print(my_dict)"
      ],
      "metadata": {
        "colab": {
          "base_uri": "https://localhost:8080/"
        },
        "id": "FdfgpbIzQEV1",
        "outputId": "27dea52e-da52-4308-841a-bb03a4bfb656"
      },
      "execution_count": null,
      "outputs": [
        {
          "output_type": "stream",
          "name": "stdout",
          "text": [
            "{'a': 400, 'b': 400, 'c': 300, 'd': 400}\n"
          ]
        }
      ]
    },
    {
      "cell_type": "markdown",
      "source": [
        "**57)Write a Python program to find the highest 3 values in a dictionary.**\n",
        "\n",
        "---\n",
        "\n"
      ],
      "metadata": {
        "id": "08E8UbTqQtB7"
      }
    },
    {
      "cell_type": "code",
      "source": [
        "def highest_three_values(my_dict):\n",
        "  highest_three = sorted(my_dict.values(),reverse=True)[:3]\n",
        "  print(highest_three)\n",
        "highest_three_values({'a': 15, 'b': 22, 'c': 9, 'd': 34, 'e': 18, 'f': 29})"
      ],
      "metadata": {
        "colab": {
          "base_uri": "https://localhost:8080/"
        },
        "id": "oc1WMNWmQwlq",
        "outputId": "e11a5f9b-0c96-45eb-bfd4-3b142e4a600f"
      },
      "execution_count": null,
      "outputs": [
        {
          "output_type": "stream",
          "name": "stdout",
          "text": [
            "[34, 29, 22]\n"
          ]
        }
      ]
    },
    {
      "cell_type": "markdown",
      "source": [
        "**58)Write a Python program to combine values in python list of dictionaries.\n",
        "Sample data: [{'item': 'item1', 'amount': 400}, {'item': 'item2', 'amount':\n",
        "300}, o {'item': 'item1', 'amount': 750}]\n",
        "Expected Output:\n",
        "• Counter ({'item1': 1150, 'item2': 300})**\n",
        "\n",
        "---\n",
        "\n"
      ],
      "metadata": {
        "id": "kiaPfwdeSsa6"
      }
    },
    {
      "cell_type": "code",
      "source": [
        "from collections import Counter\n",
        "data = [{'item':'item1', 'amount':400}, {'item': 'item2', 'amount': 300},{'item': 'item1', 'amount': 750}]\n",
        "combine_values=Counter()\n",
        "for i in data:\n",
        "  item = i['item']\n",
        "  amount = i['amount']\n",
        "  combine_values[item]+=amount\n",
        "print(combine_values)"
      ],
      "metadata": {
        "colab": {
          "base_uri": "https://localhost:8080/"
        },
        "id": "V2nswItXSwDY",
        "outputId": "cf58fdd2-356a-4beb-a7cd-651b18245800"
      },
      "execution_count": null,
      "outputs": [
        {
          "output_type": "stream",
          "name": "stdout",
          "text": [
            "Counter({'item1': 1150, 'item2': 300})\n"
          ]
        }
      ]
    },
    {
      "cell_type": "markdown",
      "source": [
        "**59)Write a Python program to create a dictionary from a string.\n",
        "Note: Track the count of the letters from the string.**\n",
        "\n",
        "---\n",
        "\n"
      ],
      "metadata": {
        "id": "4DKQtGBTyCVE"
      }
    },
    {
      "cell_type": "code",
      "source": [
        "my_str = \"Hello Python\"\n",
        "my_dict = {}\n",
        "for i in my_str:\n",
        "  if i in my_dict:\n",
        "    my_dict[i]+=1\n",
        "  else:\n",
        "    my_dict[i]=1\n",
        "print(my_dict)"
      ],
      "metadata": {
        "colab": {
          "base_uri": "https://localhost:8080/"
        },
        "id": "26Y-KzzCyFmp",
        "outputId": "70960deb-6f79-424b-adb9-b3162fcafae7"
      },
      "execution_count": null,
      "outputs": [
        {
          "output_type": "stream",
          "name": "stdout",
          "text": [
            "{'H': 1, 'e': 1, 'l': 2, 'o': 2, ' ': 1, 'P': 1, 'y': 1, 't': 1, 'h': 1, 'n': 1}\n"
          ]
        }
      ]
    },
    {
      "cell_type": "markdown",
      "source": [
        "**60)Sample string:\n",
        " 'w3resource' Expected output:\n",
        "• {'3': 1,’s’: 1, 'r': 2, 'u': 1, 'w': 1, 'c': 1, 'e': 2, 'o': 1}**\n",
        "\n",
        "---\n",
        "\n"
      ],
      "metadata": {
        "id": "P07-7pWM0zbs"
      }
    },
    {
      "cell_type": "code",
      "source": [
        "my_str = \"w3resource\"\n",
        "my_dict = {}\n",
        "for i in my_str:\n",
        "  if i in my_dict:\n",
        "    my_dict[i]+=1\n",
        "  else:\n",
        "    my_dict[i]=1\n",
        "print(my_dict)"
      ],
      "metadata": {
        "colab": {
          "base_uri": "https://localhost:8080/"
        },
        "id": "M7QabOW102p5",
        "outputId": "da9cccb2-1b19-4c90-815a-5d727a475db2"
      },
      "execution_count": null,
      "outputs": [
        {
          "output_type": "stream",
          "name": "stdout",
          "text": [
            "{'w': 1, '3': 1, 'r': 2, 'e': 2, 's': 1, 'o': 1, 'u': 1, 'c': 1}\n"
          ]
        }
      ]
    },
    {
      "cell_type": "markdown",
      "source": [
        "**61)Write a Python function to calculate the factorial of a number (a\n",
        "nonnegative integer)**\n",
        "\n",
        "---\n",
        "\n"
      ],
      "metadata": {
        "id": "kDbpGMvBKlok"
      }
    },
    {
      "cell_type": "code",
      "source": [
        "def factorial(n):\n",
        "  fact=1\n",
        "  for i in range(1,n+1):\n",
        "    fact=fact*i\n",
        "  print(fact)\n",
        "factorial(5)"
      ],
      "metadata": {
        "colab": {
          "base_uri": "https://localhost:8080/"
        },
        "id": "pAnS9fjEKpNp",
        "outputId": "16af4e87-9c8e-45c3-8f7e-2d8b67794f9c"
      },
      "execution_count": null,
      "outputs": [
        {
          "output_type": "stream",
          "name": "stdout",
          "text": [
            "120\n"
          ]
        }
      ]
    },
    {
      "cell_type": "markdown",
      "source": [
        "**62)Write a Python function to check whether a number is in a given range.**\n",
        "\n",
        "---\n",
        "\n"
      ],
      "metadata": {
        "id": "b0uqsXjTK1U5"
      }
    },
    {
      "cell_type": "code",
      "source": [
        "r1 = int(input(\"Enter First Range:\"))\n",
        "r2 = int(input(\"Enter Second Range:\"))\n",
        "num = int(input(\"Enter a Number:\"))\n",
        "if num in range(r1,r2):\n",
        "  print(\"Number in Range\")\n",
        "else:\n",
        "  print(\"Number is Not in Range\")"
      ],
      "metadata": {
        "colab": {
          "base_uri": "https://localhost:8080/"
        },
        "id": "xh7Bm5WHK87I",
        "outputId": "6f42f2dc-2311-4ffc-fc95-a0558633fc90"
      },
      "execution_count": null,
      "outputs": [
        {
          "output_type": "stream",
          "name": "stdout",
          "text": [
            "Enter First Range:23\n",
            "Enter Second Range:78\n",
            "Enter a Number:45\n",
            "Number in Range\n"
          ]
        }
      ]
    },
    {
      "cell_type": "markdown",
      "source": [
        "**63)Write a Python function to check whether a number is perfect or not.**\n",
        "\n",
        "---\n",
        "\n"
      ],
      "metadata": {
        "id": "0OWzi_JfMKhK"
      }
    },
    {
      "cell_type": "code",
      "source": [
        "def perfect_number(n):\n",
        "  if n<1:\n",
        "    return False\n",
        "  sum1 = sum(i for i in range(1,n) if n%i==0)\n",
        "  return sum1==n\n",
        "test_numbers = [6, 28, 496, 8128, 7, 15]\n",
        "results = {n:perfect_number(n) for n in test_numbers}\n",
        "print(results)"
      ],
      "metadata": {
        "colab": {
          "base_uri": "https://localhost:8080/"
        },
        "id": "6kVFGYR6MN_j",
        "outputId": "11430751-0213-4639-9f47-cf8b3e8ed2eb"
      },
      "execution_count": null,
      "outputs": [
        {
          "output_type": "stream",
          "name": "stdout",
          "text": [
            "{6: True, 28: True, 496: True, 8128: True, 7: False, 15: False}\n"
          ]
        }
      ]
    },
    {
      "cell_type": "markdown",
      "source": [
        "**64)Write a Python function that checks whether a passed string is\n",
        "palindrome or not.**\n",
        "\n",
        "---\n",
        "\n"
      ],
      "metadata": {
        "id": "bL6RxgBMTkhk"
      }
    },
    {
      "cell_type": "code",
      "source": [
        "str1 = input(\"Enter a String:\")\n",
        "str2 = str1[::-1]\n",
        "if str1==str2:\n",
        "  print(\"String is Palindrome\")\n",
        "else:\n",
        "  print(\"String is Not Palindrome\")"
      ],
      "metadata": {
        "colab": {
          "base_uri": "https://localhost:8080/"
        },
        "id": "_UrSp6B4TnzC",
        "outputId": "e1864fbe-1eef-49ef-d55f-11fa17269cf6"
      },
      "execution_count": null,
      "outputs": [
        {
          "output_type": "stream",
          "name": "stdout",
          "text": [
            "Enter a String:neha\n",
            "String is Not Palindrome\n"
          ]
        }
      ]
    },
    {
      "cell_type": "markdown",
      "source": [
        "**65)How Many Basic Types of Functions Are Available in Python?**\n",
        "\n",
        "---\n",
        "In Python, there are two main types of functions:\n",
        "\n",
        "**i)Built-in Functions:** These functions are pre-defined in Python and are available for use without requiring any additional code. They serve various purposes, such as performing mathematical operations, manipulating strings, working with lists, and more. Examples of built-in functions include print(), len(), and sum().\n",
        "\n",
        "**ii)User-Defined Functions:** These functions are defined by the user to perform specific tasks. You can create your own functions based on your requirements. For example, you can define a function to calculate the factorial of a number or to validate user input.\n",
        "\n",
        "\n"
      ],
      "metadata": {
        "id": "1QIqK0J9VCF2"
      }
    },
    {
      "cell_type": "markdown",
      "source": [
        "**66)How can you pick a random item from a list or tuple?**\n",
        "\n",
        "---\n",
        "\n",
        "i)List:"
      ],
      "metadata": {
        "id": "xKsrIPWEVzX6"
      }
    },
    {
      "cell_type": "code",
      "source": [
        "import random\n",
        "my_list = [1, 2, 3, 4, 5]\n",
        "random_item = random.choice(my_list)\n",
        "print(random_item)"
      ],
      "metadata": {
        "colab": {
          "base_uri": "https://localhost:8080/"
        },
        "id": "2s69mDKwWAMI",
        "outputId": "707a81f2-515d-4336-e777-b275ba3b68b9"
      },
      "execution_count": null,
      "outputs": [
        {
          "output_type": "stream",
          "name": "stdout",
          "text": [
            "1\n"
          ]
        }
      ]
    },
    {
      "cell_type": "code",
      "source": [
        "import random\n",
        "my_list = [1, 2, 3, 4, 5]\n",
        "random_items = random.choices(my_list, k=3)\n",
        "print(random_items)\n",
        "# random.choices() can pick the same item multiple times. If you need unique items, you can use random.sample():"
      ],
      "metadata": {
        "colab": {
          "base_uri": "https://localhost:8080/"
        },
        "id": "ktSyqswUW1jF",
        "outputId": "cc786ec0-8c82-485f-b830-27c2fced7c6d"
      },
      "execution_count": null,
      "outputs": [
        {
          "output_type": "stream",
          "name": "stdout",
          "text": [
            "[5, 5, 1]\n"
          ]
        }
      ]
    },
    {
      "cell_type": "markdown",
      "source": [
        "ii)Tuple:"
      ],
      "metadata": {
        "id": "iP111RXVWZjL"
      }
    },
    {
      "cell_type": "code",
      "source": [
        "import random\n",
        "my_tuple = (1, 2, 3, 4, 5)\n",
        "random_item = random.choice(my_tuple)\n",
        "print(random_item)"
      ],
      "metadata": {
        "colab": {
          "base_uri": "https://localhost:8080/"
        },
        "id": "6oBq275OWcpq",
        "outputId": "f7c291be-edda-41ee-ef50-699cef4eb4e5"
      },
      "execution_count": null,
      "outputs": [
        {
          "output_type": "stream",
          "name": "stdout",
          "text": [
            "4\n"
          ]
        }
      ]
    },
    {
      "cell_type": "markdown",
      "source": [
        "**67)How can you pick a random item from a range?**\n",
        "\n",
        "---\n",
        "\n"
      ],
      "metadata": {
        "id": "vK2ig4V3X5Mj"
      }
    },
    {
      "cell_type": "code",
      "source": [
        "import random\n",
        "random_item = random.randrange(10)\n",
        "print(random_item)\n",
        "random_item = random.randrange(2,10)\n",
        "print(random_item)\n",
        "random_item = random.randrange(1,20,2)\n",
        "print(random_item)"
      ],
      "metadata": {
        "colab": {
          "base_uri": "https://localhost:8080/"
        },
        "id": "KgYQRgoNW6R8",
        "outputId": "b96670ec-93e6-4d28-ff77-9664e5f09107"
      },
      "execution_count": null,
      "outputs": [
        {
          "output_type": "stream",
          "name": "stdout",
          "text": [
            "1\n",
            "8\n",
            "15\n"
          ]
        }
      ]
    },
    {
      "cell_type": "markdown",
      "source": [
        "**68)How can you get a random number in python?**\n",
        "\n",
        "---\n",
        "\n"
      ],
      "metadata": {
        "id": "N5Njy8z8Yrrd"
      }
    },
    {
      "cell_type": "code",
      "source": [
        "import random\n",
        "random_item = random.randrange(2,10)\n",
        "print(random_item)"
      ],
      "metadata": {
        "colab": {
          "base_uri": "https://localhost:8080/"
        },
        "id": "QUTv-eueYu0t",
        "outputId": "48c3c44c-fa16-4c8e-b57a-8e90a72a73e8"
      },
      "execution_count": null,
      "outputs": [
        {
          "output_type": "stream",
          "name": "stdout",
          "text": [
            "9\n"
          ]
        }
      ]
    },
    {
      "cell_type": "markdown",
      "source": [
        "**69)How will you set the starting value in generating random numbers?**\n",
        "\n",
        "---\n",
        "\n"
      ],
      "metadata": {
        "id": "JWzMM9qyZPfg"
      }
    },
    {
      "cell_type": "code",
      "source": [
        "import random\n",
        "random.seed(42)\n",
        "random_number1 = random.random()\n",
        "random_number2 = random.randint(1, 100)\n",
        "random_number3 = random.uniform(1.0, 10.0)\n",
        "print(random_number1)\n",
        "print(random_number2)\n",
        "print(random_number3)"
      ],
      "metadata": {
        "colab": {
          "base_uri": "https://localhost:8080/"
        },
        "id": "jUcscUIcZTX7",
        "outputId": "fb5da964-1523-424f-b5b5-e5652356e81c"
      },
      "execution_count": null,
      "outputs": [
        {
          "output_type": "stream",
          "name": "stdout",
          "text": [
            "0.6394267984578837\n",
            "4\n",
            "7.673954497838496\n"
          ]
        }
      ]
    },
    {
      "cell_type": "markdown",
      "source": [
        "**70) How will you randomize the items of a list in place?**\n",
        "\n",
        "---\n",
        "\n"
      ],
      "metadata": {
        "id": "8uAmROWBZ1SD"
      }
    },
    {
      "cell_type": "code",
      "source": [
        "import random\n",
        "my_list = [1, 2, 3, 4, 5]\n",
        "random.shuffle(my_list)\n",
        "print(my_list)"
      ],
      "metadata": {
        "colab": {
          "base_uri": "https://localhost:8080/"
        },
        "id": "rEe1RH_vZ4V8",
        "outputId": "69486493-780b-4983-efa5-b1d6bcbf7998"
      },
      "execution_count": null,
      "outputs": [
        {
          "output_type": "stream",
          "name": "stdout",
          "text": [
            "[4, 3, 1, 5, 2]\n"
          ]
        }
      ]
    },
    {
      "cell_type": "markdown",
      "source": [
        "**71)What is File function in python? What are keywords to create\n",
        "and write file.**\n",
        "\n",
        "---\n",
        "In Python, file handling allows you to work with files—reading from them, writing to them, and manipulating their content. To perform file operations, you wll use the built-in open() function, which returns a file object.\n",
        "\n",
        "**i)open():** This function is used to open a file and returns a file object. The key is to use the right mode when opening:\n",
        "\n",
        "**ii)write():** This method of a file object is used to write a string to the file.\n",
        "\n",
        "**iii)close():** It's essential to close the file object after you're done writing to it to ensure that all changes are saved and resources are released.\n",
        "\n",
        "What are keywords to create\n",
        "and write file.\n",
        "\n",
        "-Create and write: 'w', 'x'\n"
      ],
      "metadata": {
        "id": "dE6tjiS_aden"
      }
    },
    {
      "cell_type": "markdown",
      "source": [
        "**72)Write a Python program to read an entire text file.**\n",
        "\n",
        "---\n",
        "\n"
      ],
      "metadata": {
        "id": "ECUv085_cQtO"
      }
    },
    {
      "cell_type": "code",
      "source": [
        "# Mount Google Drive\n",
        "from google.colab import drive\n",
        "import pandas as pd\n",
        "drive.mount('/content/drive')\n",
        "file_path = '/content/drive/My Drive/Colab Notebooks/a.csv'\n",
        "df = pd.read_csv(file_path)\n",
        "print(df.head())"
      ],
      "metadata": {
        "colab": {
          "base_uri": "https://localhost:8080/"
        },
        "id": "0jfJu9Rdt1jz",
        "outputId": "0a7f9794-19f4-4429-8028-57fdb2875386"
      },
      "execution_count": null,
      "outputs": [
        {
          "output_type": "stream",
          "name": "stdout",
          "text": [
            "Drive already mounted at /content/drive; to attempt to forcibly remount, call drive.mount(\"/content/drive\", force_remount=True).\n",
            "            Hello World\n",
            "0  This is for testing \n",
            "1          Second Line \n",
            "2           Third Line \n",
            "3          Fourth Line \n",
            "4            Fifth Line\n"
          ]
        }
      ]
    },
    {
      "cell_type": "code",
      "source": [
        "from google.colab import drive\n",
        "import pandas as pd\n",
        "\n",
        "# Step 1: Mount Google Drive\n",
        "drive.mount('/content/drive')\n",
        "\n",
        "# Step 2: Read the CSV file\n",
        "file_path_csv = '/content/drive/My Drive/Colab Notebooks/a.csv'\n",
        "df = pd.read_csv(file_path_csv)\n",
        "\n",
        "# Display the DataFrame (optional)\n",
        "# print(df.head())\n",
        "\n",
        "# Step 3: Write the DataFrame to a text file\n",
        "file_path_txt = '/content/drive/My Drive/Colab Notebooks/a_converted.txt'\n",
        "df.to_csv(file_path_txt, sep='\\t', index=False)\n",
        "\n",
        "# Print a message to confirm the file has been saved\n",
        "print(f\"File has been saved to {file_path_txt}\")\n",
        "with open(file_path_txt, 'r') as file:\n",
        "    content = file.read()\n",
        "print(content)"
      ],
      "metadata": {
        "colab": {
          "base_uri": "https://localhost:8080/"
        },
        "id": "CZs8dAH81HZw",
        "outputId": "6cb6c600-dfb0-495b-8c0d-5c918ca17509"
      },
      "execution_count": null,
      "outputs": [
        {
          "output_type": "stream",
          "name": "stdout",
          "text": [
            "Drive already mounted at /content/drive; to attempt to forcibly remount, call drive.mount(\"/content/drive\", force_remount=True).\n",
            "File has been saved to /content/drive/My Drive/Colab Notebooks/a_converted.txt\n",
            "Hello World\n",
            "This is for testing \n",
            "Second Line \n",
            "Third Line \n",
            "Fourth Line \n",
            "Fifth Line\n",
            "\n"
          ]
        }
      ]
    },
    {
      "cell_type": "markdown",
      "source": [
        "**73)Write a Python program to append text to a file and display the text.**\n",
        "\n",
        "---\n",
        "\n"
      ],
      "metadata": {
        "id": "tbq7ut29hvlt"
      }
    },
    {
      "cell_type": "code",
      "source": [
        "file_path = '/content/drive/My Drive/Colab Notebooks/a_converted.txt'\n",
        "with open(file_path, \"a\") as f:\n",
        "    f.write('This is a new line \\n')\n",
        "with open(file_path, \"r\") as f:\n",
        "    content = f.read()\n",
        "print(content)\n"
      ],
      "metadata": {
        "colab": {
          "base_uri": "https://localhost:8080/"
        },
        "id": "DtZKrLfoil5e",
        "outputId": "c51e0737-e79b-4dd9-9346-c4180f18f1e1"
      },
      "execution_count": null,
      "outputs": [
        {
          "output_type": "stream",
          "name": "stdout",
          "text": [
            "Hello World\n",
            "This is for testing \n",
            "Second Line \n",
            "Third Line \n",
            "Fourth Line \n",
            "Fifth Line\n",
            "This is a new line \n",
            "\n"
          ]
        }
      ]
    },
    {
      "cell_type": "markdown",
      "source": [
        "**74)Write a Python program to read first n lines of a file.**\n",
        "\n",
        "---\n",
        "\n"
      ],
      "metadata": {
        "id": "XBnGFDVImcwg"
      }
    },
    {
      "cell_type": "code",
      "source": [
        "def read_first_n_lines(file_path, n):\n",
        "    with open(file_path, 'r') as file:\n",
        "        for i in range(n):\n",
        "            line = file.readline()\n",
        "            if not line:\n",
        "                break\n",
        "            print(line.strip())\n",
        "file_path = '/content/drive/My Drive/Colab Notebooks/a_converted.txt'\n",
        "n = 2\n",
        "read_first_n_lines(file_path, n)"
      ],
      "metadata": {
        "colab": {
          "base_uri": "https://localhost:8080/"
        },
        "id": "LmnDxs_AmgLS",
        "outputId": "bbfa8ee6-2e64-4a0c-8847-7b6471d368d2"
      },
      "execution_count": null,
      "outputs": [
        {
          "output_type": "stream",
          "name": "stdout",
          "text": [
            "Hello World\n",
            "This is for testing\n"
          ]
        }
      ]
    },
    {
      "cell_type": "markdown",
      "source": [
        "**75)Write a Python program to read last n lines of a file.**\n",
        "\n",
        "---\n",
        "\n"
      ],
      "metadata": {
        "id": "ddvtJg9boxBO"
      }
    },
    {
      "cell_type": "code",
      "source": [
        "from collections import deque\n",
        "def read_last_n_lines(file_path, n):\n",
        "    with open(file_path, 'r') as file:\n",
        "        lines = deque(file, maxlen=n)\n",
        "    return list(lines)\n",
        "file_path = '/content/drive/My Drive/Colab Notebooks/a_converted.txt'\n",
        "n = 2\n",
        "last=read_last_n_lines(file_path,n)\n",
        "for line in last:\n",
        "    print(line.strip())"
      ],
      "metadata": {
        "colab": {
          "base_uri": "https://localhost:8080/"
        },
        "id": "xGNAx8iXozwd",
        "outputId": "08ecf0bf-f00e-44f5-c334-96ead531fd79"
      },
      "execution_count": null,
      "outputs": [
        {
          "output_type": "stream",
          "name": "stdout",
          "text": [
            "Fifth Line\n",
            "This is a new line\n"
          ]
        }
      ]
    },
    {
      "cell_type": "markdown",
      "source": [
        "**76)Write a Python program to read a file line by line and store it into a list.**\n",
        "\n",
        "---\n",
        "\n"
      ],
      "metadata": {
        "id": "TvjV7U2HrFZh"
      }
    },
    {
      "cell_type": "code",
      "source": [
        "def read_file_to_list(file_path):\n",
        "    with open(file_path, 'r') as file:\n",
        "        lines = file.readlines()\n",
        "    return [line.strip() for line in lines]\n",
        "file_path = '/content/drive/My Drive/Colab Notebooks/a_converted.txt'\n",
        "read_file_to_list(file_path)"
      ],
      "metadata": {
        "colab": {
          "base_uri": "https://localhost:8080/"
        },
        "id": "65up9Y5prIx6",
        "outputId": "db4fce12-8530-4304-9b8a-69431aa7e4d1"
      },
      "execution_count": null,
      "outputs": [
        {
          "output_type": "execute_result",
          "data": {
            "text/plain": [
              "['Hello World',\n",
              " 'This is for testing',\n",
              " 'Second Line',\n",
              " 'Third Line',\n",
              " 'Fourth Line',\n",
              " 'Fifth Line',\n",
              " 'This is a new line']"
            ]
          },
          "metadata": {},
          "execution_count": 31
        }
      ]
    },
    {
      "cell_type": "markdown",
      "source": [
        "**77)Write a Python program to read a file line by line store it into a variable.**\n",
        "\n",
        "---\n",
        "\n"
      ],
      "metadata": {
        "id": "nmebYB7dsMNN"
      }
    },
    {
      "cell_type": "code",
      "source": [
        "def read_file_to_variable(file_path):\n",
        "    content = \"\"\n",
        "    with open(file_path, 'r') as file:\n",
        "        for line in file:\n",
        "            content += line\n",
        "    return content\n",
        "file_path = '/content/drive/My Drive/Colab Notebooks/a_converted.txt'\n",
        "read_file_to_variable(file_path)"
      ],
      "metadata": {
        "colab": {
          "base_uri": "https://localhost:8080/",
          "height": 35
        },
        "id": "8H3oxsH9sPP6",
        "outputId": "efb8f052-4287-423a-b808-5990c3460a88"
      },
      "execution_count": null,
      "outputs": [
        {
          "output_type": "execute_result",
          "data": {
            "text/plain": [
              "'Hello World\\nThis is for testing \\nSecond Line \\nThird Line \\nFourth Line \\nFifth Line\\nThis is a new line \\n'"
            ],
            "application/vnd.google.colaboratory.intrinsic+json": {
              "type": "string"
            }
          },
          "metadata": {},
          "execution_count": 32
        }
      ]
    },
    {
      "cell_type": "markdown",
      "source": [
        "**78)Write a python program to find the longest words.**\n",
        "\n",
        "---\n",
        "\n"
      ],
      "metadata": {
        "id": "iu9dHHjwtgBe"
      }
    },
    {
      "cell_type": "code",
      "source": [
        "def find_longest_words(file_path):\n",
        "    with open(file_path, 'r') as f:\n",
        "      content = f.read()\n",
        "    import re\n",
        "    words = re.findall(r'\\b\\w+\\b', content)\n",
        "    max_length = max(len(word) for word in words)\n",
        "    longest_words = [word for word in words if len(word) == max_length]\n",
        "    return longest_words\n",
        "file_path = '/content/drive/My Drive/Colab Notebooks/a_converted.txt'\n",
        "longest_words = find_longest_words(file_path)\n",
        "for word in longest_words:\n",
        "    print(word)"
      ],
      "metadata": {
        "colab": {
          "base_uri": "https://localhost:8080/"
        },
        "id": "RCIvtfFFtjcA",
        "outputId": "f9d226fc-d111-4dc3-e239-b06de0901e2d"
      },
      "execution_count": null,
      "outputs": [
        {
          "output_type": "stream",
          "name": "stdout",
          "text": [
            "testing\n"
          ]
        }
      ]
    },
    {
      "cell_type": "markdown",
      "source": [
        "**79)Write a Python program to count the number of lines in a text file.**\n",
        "\n",
        "---\n",
        "\n"
      ],
      "metadata": {
        "id": "Senr3XcTvTNQ"
      }
    },
    {
      "cell_type": "code",
      "source": [
        "def count_lines_in_file(file_path):\n",
        "    with open(file_path, 'r') as file:\n",
        "        line_count = sum(1 for _ in file)\n",
        "    return line_count\n",
        "file_path = '/content/drive/My Drive/Colab Notebooks/a_converted.txt'\n",
        "count_lines_in_file(file_path)"
      ],
      "metadata": {
        "colab": {
          "base_uri": "https://localhost:8080/"
        },
        "id": "ANAVrSLpvWL2",
        "outputId": "6525983d-fea8-4cb2-8ba7-78eafd74e02c"
      },
      "execution_count": null,
      "outputs": [
        {
          "output_type": "execute_result",
          "data": {
            "text/plain": [
              "7"
            ]
          },
          "metadata": {},
          "execution_count": 38
        }
      ]
    },
    {
      "cell_type": "markdown",
      "source": [
        "**80)Write a Python program to count the frequency of words in a file.**\n",
        "\n",
        "---\n",
        "\n"
      ],
      "metadata": {
        "id": "X5k3xGU7USnr"
      }
    },
    {
      "cell_type": "code",
      "source": [
        "from collections import Counter\n",
        "import re\n",
        "def count_word_frequency(file_path):\n",
        "  with open(file_path, 'r', encoding='utf-8') as file:\n",
        "            text = file.read()\n",
        "  words = re.findall(r'\\b\\w+\\b', text.lower())\n",
        "  word_count = Counter(words)\n",
        "  for word, count in word_count.items():\n",
        "            print(f\"{word}: {count}\")\n",
        "file_path = '/content/drive/My Drive/Colab Notebooks/a_converted.txt'\n",
        "count_word_frequency(file_path)"
      ],
      "metadata": {
        "colab": {
          "base_uri": "https://localhost:8080/"
        },
        "id": "LvDuQwRcUWsx",
        "outputId": "81148e44-cac2-43c8-8ac8-3c71c064e111"
      },
      "execution_count": null,
      "outputs": [
        {
          "output_type": "stream",
          "name": "stdout",
          "text": [
            "hello: 1\n",
            "world: 1\n",
            "this: 2\n",
            "is: 2\n",
            "for: 1\n",
            "testing: 1\n",
            "second: 1\n",
            "line: 5\n",
            "third: 1\n",
            "fourth: 1\n",
            "fifth: 1\n",
            "a: 1\n",
            "new: 1\n"
          ]
        }
      ]
    },
    {
      "cell_type": "markdown",
      "source": [
        "**81)Write a Python program to write a list to a file.**\n",
        "\n",
        "---\n",
        "\n"
      ],
      "metadata": {
        "id": "CVjfuAxaXjdi"
      }
    },
    {
      "cell_type": "code",
      "source": [
        "def write_list_to_file(file_path, items):\n",
        "  with open(file_path, 'w') as file:\n",
        "            for item in items:\n",
        "                file.write(f\"{item}\\n\")\n",
        "  print(f\"List successfully written to {file_path}\")\n",
        "file_path = '/content/drive/My Drive/Colab Notebooks/a_converted.txt'\n",
        "items = [\"Apple\",\"Banana\",\"Cherry\"]\n",
        "write_list_to_file(file_path, items)"
      ],
      "metadata": {
        "colab": {
          "base_uri": "https://localhost:8080/"
        },
        "id": "zn2hWfuDXng3",
        "outputId": "e787152a-9550-48a5-db77-83fa41c4da89"
      },
      "execution_count": null,
      "outputs": [
        {
          "output_type": "stream",
          "name": "stdout",
          "text": [
            "List successfully written to /content/drive/My Drive/Colab Notebooks/a_converted.txt\n"
          ]
        }
      ]
    },
    {
      "cell_type": "markdown",
      "source": [
        "**82)Write a Python program to copy the contents of a file to another file.**\n",
        "\n",
        "---\n",
        "\n"
      ],
      "metadata": {
        "id": "jKiwKbfEZto9"
      }
    },
    {
      "cell_type": "code",
      "source": [],
      "metadata": {
        "id": "-3tJFaVFZw8q"
      },
      "execution_count": null,
      "outputs": []
    },
    {
      "cell_type": "markdown",
      "source": [
        "**83)Explain Exception handling? What is an Error in Python?**\n",
        "\n",
        "---\n",
        "\n",
        "Exception handling is a crucial concept in Python that allows you to gracefully handle errors during program execution.\n",
        "\n",
        "**Errors in Python:**\n",
        "\n",
        "i)syntax errors: These occur when the interpreter encounters incorrect syntax in your code (e.g., misspelled keywords, missing colons, unbalanced parentheses).\n",
        "\n",
        "ii)Exceptions: These are raised during program execution due to internal events that change the normal flow of the program. Unlike syntax errors, exceptions don’t necessarily stop the program; they alter its behavior.\n",
        "\n",
        "Common Types of Exceptions:SyntaxError , TypeError , NameError , IndexError , KeyError , ValueError , AttributeError , ZeroDivisionError , ImportError.\n",
        "\n"
      ],
      "metadata": {
        "id": "QQQoqNEbeiGl"
      }
    },
    {
      "cell_type": "markdown",
      "source": [
        "**84)How many except statements can a try-except block have? Name\n",
        "Some built-in exception classes:**\n",
        "\n",
        "---\n",
        "A try-except block in Python can have multiple except statements to handle different exceptions. There is no strict limit to the number of except statements you can have, so you can add as many as you need to handle different types of exceptions.\n",
        "\n",
        "\n"
      ],
      "metadata": {
        "id": "_DXUTQiIgXt6"
      }
    },
    {
      "cell_type": "code",
      "source": [
        "from math import factorial\n",
        "num = int(input(\"enter a n :\"))\n",
        "try:\n",
        "\tans = factorial(num)\n",
        "\tprint(ans)\n",
        "except NameError as e:\n",
        "\tprint(e)\n",
        "except IndexError as e:\n",
        "\tprint(e)\n",
        "except ValueError as msg:\n",
        "\tprint(msg)\n",
        "except Exception as e:\n",
        "\tprint(e)"
      ],
      "metadata": {
        "colab": {
          "base_uri": "https://localhost:8080/"
        },
        "id": "DjRm5EM0TdvK",
        "outputId": "b7f6659d-6422-4e48-ca98-92e4134e8d84"
      },
      "execution_count": null,
      "outputs": [
        {
          "output_type": "stream",
          "name": "stdout",
          "text": [
            "enter a n :5\n",
            "120\n"
          ]
        }
      ]
    },
    {
      "cell_type": "markdown",
      "source": [
        "**85)When will the else part of try-except-else be executed?**\n",
        "\n",
        "---\n",
        "The else block in a try-except-else construct is executed only if no exceptions occur within the try block.\n"
      ],
      "metadata": {
        "id": "irXJEdGyTuoE"
      }
    },
    {
      "cell_type": "code",
      "source": [
        "try:\n",
        "    result = 10 / 2\n",
        "except ZeroDivisionError:\n",
        "    print(\"Oops! You tried to divide by zero.\")\n",
        "else:\n",
        "    print(\"No exceptions occurred. This runs!\")\n"
      ],
      "metadata": {
        "colab": {
          "base_uri": "https://localhost:8080/"
        },
        "id": "mplT9lYQUNCm",
        "outputId": "0c0b5a47-64cf-44b6-e462-4829d30e4dbc"
      },
      "execution_count": null,
      "outputs": [
        {
          "output_type": "stream",
          "name": "stdout",
          "text": [
            "No exceptions occurred. This runs!\n"
          ]
        }
      ]
    },
    {
      "cell_type": "code",
      "source": [
        "try:\n",
        "    result = 10 / 0\n",
        "except ZeroDivisionError:\n",
        "    print(\"Cannot divide by zero!\")\n",
        "else:\n",
        "    print(\"Division was successful. Result:\", result)\n"
      ],
      "metadata": {
        "colab": {
          "base_uri": "https://localhost:8080/"
        },
        "id": "k_V78zOQUaOR",
        "outputId": "51ba4f73-db83-4aa7-85d7-ae60326e681f"
      },
      "execution_count": null,
      "outputs": [
        {
          "output_type": "stream",
          "name": "stdout",
          "text": [
            "Cannot divide by zero!\n"
          ]
        }
      ]
    },
    {
      "cell_type": "markdown",
      "source": [
        "**86)Can one block of except statements handle multiple exception?**\n",
        "\n",
        "---\n",
        "Yes, a single except block can handle multiple exceptions in Python. You can specify multiple exception types within the same except block, separated by parentheses.\n"
      ],
      "metadata": {
        "id": "HQAYyHNBUqvi"
      }
    },
    {
      "cell_type": "code",
      "source": [
        "try:\n",
        "    x = int(input(\"Enter a number: \"))\n",
        "    result = 10 / x\n",
        "except (ValueError, ZeroDivisionError) as e:\n",
        "    print(f\"An error occurred: {e}\")"
      ],
      "metadata": {
        "colab": {
          "base_uri": "https://localhost:8080/"
        },
        "id": "Lj_x-balVHdw",
        "outputId": "67e9dcd1-1214-43f5-e894-db02dc805904"
      },
      "execution_count": null,
      "outputs": [
        {
          "output_type": "stream",
          "name": "stdout",
          "text": [
            "Enter a number: 0\n",
            "An error occurred: division by zero\n"
          ]
        }
      ]
    },
    {
      "cell_type": "markdown",
      "source": [
        "**87)When is the finally block executed?**\n",
        "\n",
        "---\n",
        "The finally block in a try-except-finally construct is executed always, regardless of whether an exception was raised or not in the try block. This includes cases where an exception is caught by an except block, an exception is not caught and propagates out of the block, or no exception occurs at all.\n",
        "\n"
      ],
      "metadata": {
        "id": "GCcknHMhWgCb"
      }
    },
    {
      "cell_type": "code",
      "source": [
        "try:\n",
        "    x = 1 / 0\n",
        "except ZeroDivisionError:\n",
        "    print(\"Caught division by zero\")\n",
        "finally:\n",
        "    print(\"This will always be executed\")\n"
      ],
      "metadata": {
        "colab": {
          "base_uri": "https://localhost:8080/"
        },
        "id": "DM4xsB9qXSUD",
        "outputId": "c398cf92-7852-40e3-a761-76bfacc7f4e2"
      },
      "execution_count": null,
      "outputs": [
        {
          "output_type": "stream",
          "name": "stdout",
          "text": [
            "Caught division by zero\n",
            "This will always be executed\n"
          ]
        }
      ]
    },
    {
      "cell_type": "markdown",
      "source": [
        "**88)What happens when „1‟== 1 is executed?**\n",
        "\n",
        "---\n",
        "When the expression \"1\" == 1 is executed in Python, it evaluates to False.\n"
      ],
      "metadata": {
        "id": "LlcRm18PXlM2"
      }
    },
    {
      "cell_type": "code",
      "source": [
        "print('1' == 1)"
      ],
      "metadata": {
        "colab": {
          "base_uri": "https://localhost:8080/"
        },
        "id": "SUcGzDKzZgb6",
        "outputId": "845399c9-36f1-4be5-ac9d-16b887191aa4"
      },
      "execution_count": null,
      "outputs": [
        {
          "output_type": "stream",
          "name": "stdout",
          "text": [
            "False\n"
          ]
        }
      ]
    },
    {
      "cell_type": "markdown",
      "source": [
        "**89)How Do You Handle Exceptions with Try/Except/Finally in Python?\n",
        "Explain with coding snippets.**\n",
        "\n",
        "---\n",
        "\n"
      ],
      "metadata": {
        "id": "c-fnii5xZs5h"
      }
    },
    {
      "cell_type": "code",
      "source": [
        "mylist = [10,20,30,40]\n",
        "\n",
        "try:\n",
        "\tprint(mylist[4])\n",
        "except:\n",
        "\tprint('error')"
      ],
      "metadata": {
        "colab": {
          "base_uri": "https://localhost:8080/"
        },
        "id": "mNZ63aGhaSG7",
        "outputId": "b7a09dde-aae9-45eb-f911-484190a2811c"
      },
      "execution_count": null,
      "outputs": [
        {
          "output_type": "stream",
          "name": "stdout",
          "text": [
            "error\n"
          ]
        }
      ]
    },
    {
      "cell_type": "code",
      "source": [
        "try:\n",
        "    result = 10 / 2\n",
        "except ZeroDivisionError:\n",
        "    print(\"Oops! You tried to divide by zero.\")\n",
        "finally:\n",
        "    print(\"This always runs, no matter what.\")"
      ],
      "metadata": {
        "colab": {
          "base_uri": "https://localhost:8080/"
        },
        "id": "-EWr6dJSb6zl",
        "outputId": "19c1463f-713e-461f-964d-5e340634f91a"
      },
      "execution_count": null,
      "outputs": [
        {
          "output_type": "stream",
          "name": "stdout",
          "text": [
            "This always runs, no matter what.\n"
          ]
        }
      ]
    },
    {
      "cell_type": "markdown",
      "source": [
        "**90)Write python program that user to enter only odd numbers, else\n",
        "will raise an exception.**\n",
        "\n",
        "---\n",
        "\n"
      ],
      "metadata": {
        "id": "yFFBwztgcE4j"
      }
    },
    {
      "cell_type": "code",
      "source": [
        "class EvenNumberError(Exception):\n",
        "\n",
        "    def __init__(self, number):\n",
        "        self.number = number\n",
        "        self.message = f\"{number} is an even number. Please enter an odd number.\"\n",
        "        super().__init__(self.message)\n",
        "\n",
        "def get_odd_number():\n",
        "    while True:\n",
        "        try:\n",
        "            number = int(input(\"Enter an odd number: \"))\n",
        "            if number % 2 == 0:\n",
        "                raise EvenNumberError(number)\n",
        "            print(f\"Thank you for entering an odd number: {number}\")\n",
        "            break\n",
        "        except EvenNumberError as e:\n",
        "            print(e)\n",
        "        except ValueError:\n",
        "            print(\"Invalid input. Please enter a valid integer.\")\n",
        "\n",
        "\n",
        "get_odd_number()\n"
      ],
      "metadata": {
        "colab": {
          "base_uri": "https://localhost:8080/"
        },
        "id": "Wo98p_dvqS0P",
        "outputId": "12177b0f-a73a-420f-d9ea-f500c19a3ccf"
      },
      "execution_count": null,
      "outputs": [
        {
          "output_type": "stream",
          "name": "stdout",
          "text": [
            "Enter an odd number: 11\n",
            "Thank you for entering an odd number: 11\n"
          ]
        }
      ]
    }
  ]
}